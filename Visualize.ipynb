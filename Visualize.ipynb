{
  "nbformat": 4,
  "nbformat_minor": 0,
  "metadata": {
    "colab": {
      "name": "Visualize.ipynb",
      "provenance": [],
      "toc_visible": true
    },
    "kernelspec": {
      "name": "python3",
      "display_name": "Python 3"
    },
    "language_info": {
      "name": "python"
    }
  },
  "cells": [
    {
      "cell_type": "code",
      "metadata": {
        "colab": {
          "base_uri": "https://localhost:8080/"
        },
        "id": "6_QqntbAFnmq",
        "outputId": "a03224a8-8598-49b5-b786-53c060810141"
      },
      "source": [
        "# if you have google drive permission then use this \n",
        "\n",
        "from google.colab import drive\n",
        "drive.mount('/gdrive')\n",
        "!ln -s   /gdrive/MyDrive/colab/Credit_Card/data/ /content/data"
      ],
      "execution_count": null,
      "outputs": [
        {
          "output_type": "stream",
          "text": [
            "Mounted at /gdrive\n"
          ],
          "name": "stdout"
        }
      ]
    },
    {
      "cell_type": "code",
      "metadata": {
        "colab": {
          "base_uri": "https://localhost:8080/",
          "height": 239
        },
        "id": "xWeQ-Z-yF2UU",
        "outputId": "13597d3a-58fa-4046-9b9d-51d49e9c1755"
      },
      "source": [
        "# f1id = '1W0EL3w6qxHRa5ZFPYhYl87Piv7Y94ELG'\n",
        "# f1id = '1SvJ_IiHr-ndJDG_sBf6NCn0lMKUxPIlf'\n",
        "# f2id = '1mJv80_a17wXnXydZEPGXKFtnQRd5REsc'\n",
        "\n",
        "# !pip3 install gdown\n",
        "# import gdown\n",
        "# url = 'https://drive.google.com/uc?id=%s'%(f1id)\n",
        "# output = 'train.csv'\n",
        "# gdown.download(url, output, quiet=False)\n",
        "# url = 'https://drive.google.com/uc?id=%s'%(f2id)\n",
        "# output = 'test.csv'\n",
        "# gdown.download(url, output, quiet=False)\n",
        "\n",
        "!pip3 install gdown\n",
        "import gdown\n",
        "\n",
        "f3id = '1-2618saTS6OzD17x3NCol7_0O7rYSg0L'\n",
        "url = 'https://drive.google.com/uc?id=%s'%(f3id)\n",
        "output = 'train.csv'\n",
        "gdown.download(url, output, quiet=False)"
      ],
      "execution_count": null,
      "outputs": [
        {
          "output_type": "stream",
          "text": [
            "Requirement already satisfied: gdown in /usr/local/lib/python3.7/dist-packages (3.6.4)\n",
            "Requirement already satisfied: requests in /usr/local/lib/python3.7/dist-packages (from gdown) (2.23.0)\n",
            "Requirement already satisfied: six in /usr/local/lib/python3.7/dist-packages (from gdown) (1.15.0)\n",
            "Requirement already satisfied: tqdm in /usr/local/lib/python3.7/dist-packages (from gdown) (4.41.1)\n",
            "Requirement already satisfied: idna<3,>=2.5 in /usr/local/lib/python3.7/dist-packages (from requests->gdown) (2.10)\n",
            "Requirement already satisfied: certifi>=2017.4.17 in /usr/local/lib/python3.7/dist-packages (from requests->gdown) (2020.12.5)\n",
            "Requirement already satisfied: chardet<4,>=3.0.2 in /usr/local/lib/python3.7/dist-packages (from requests->gdown) (3.0.4)\n",
            "Requirement already satisfied: urllib3!=1.25.0,!=1.25.1,<1.26,>=1.21.1 in /usr/local/lib/python3.7/dist-packages (from requests->gdown) (1.24.3)\n"
          ],
          "name": "stdout"
        },
        {
          "output_type": "stream",
          "text": [
            "Downloading...\n",
            "From: https://drive.google.com/uc?id=1-2618saTS6OzD17x3NCol7_0O7rYSg0L\n",
            "To: /content/train.csv\n",
            "1.07GB [00:06, 157MB/s]\n"
          ],
          "name": "stderr"
        },
        {
          "output_type": "execute_result",
          "data": {
            "application/vnd.google.colaboratory.intrinsic+json": {
              "type": "string"
            },
            "text/plain": [
              "'train.csv'"
            ]
          },
          "metadata": {
            "tags": []
          },
          "execution_count": 107
        }
      ]
    },
    {
      "cell_type": "code",
      "metadata": {
        "id": "HCsVVPJ4HOhU"
      },
      "source": [
        "import matplotlib.pyplot as plt\n",
        "import pandas as pd\n",
        "import numpy as np\n",
        "import seaborn as sns\n",
        "import math\n",
        "\n",
        "from sklearn.model_selection import train_test_split\n",
        "from sklearn import preprocessing\n",
        "from sklearn import metrics"
      ],
      "execution_count": null,
      "outputs": []
    },
    {
      "cell_type": "code",
      "metadata": {
        "id": "r3LEWIoFHJZ1"
      },
      "source": [
        "train = pd.read_csv('train.csv')\n",
        "# test = pd.read_csv('test.csv')"
      ],
      "execution_count": null,
      "outputs": []
    },
    {
      "cell_type": "code",
      "metadata": {
        "colab": {
          "base_uri": "https://localhost:8080/"
        },
        "id": "DtWRvdguHRyM",
        "outputId": "80c4bd6e-da7f-4a1d-9d96-5d3781382e11"
      },
      "source": [
        "print(\"train.shape\",train.shape)\n",
        "# print(\"test.shape\",test.shape)"
      ],
      "execution_count": null,
      "outputs": [
        {
          "output_type": "stream",
          "text": [
            "train.shape (1141340, 229)\n"
          ],
          "name": "stdout"
        }
      ]
    },
    {
      "cell_type": "markdown",
      "metadata": {
        "id": "yyTwPahwIRwE"
      },
      "source": [
        "# 資料欄位\n",
        "\n",
        "*   acqic - 收單行代碼\n",
        "*   bacno - 歸戶帳號\n",
        "*   cano - 卡號\n",
        "*   conam - 交易金額(台幣)\n",
        "*   contp - 交易類別(e.g. 一般交易/刷退...)\n",
        "*   csmcu - 消費地幣別\n",
        "*   ecfg - 網路交易註記\n",
        "*   etymd - 交易型態(e.g. 實體交易/網路交易)\n",
        "*   flbmk - Fallback交易註記(預先授權)\n",
        "*   flg_3dsmk - 3DS交易驗證註記\n",
        "*   hecfg - 支付型態\n",
        "*   insfg - 分期交易註記\n",
        "*   iterm - 分期期數\n",
        "*   locdt - 授權日期\n",
        "*   loctm - 授權時間(HHMMSS)\n",
        "*   mcc - 特店類別\n",
        "*   mchno - 特店名稱\n",
        "*   ovrlt - 超額交易註記\n",
        "*   scity - 消費地城市\n",
        "*   stocn - 消費地國別\n",
        "*   stscd - 狀態碼\n",
        "*   stscd - 狀態碼\n",
        "*  txkey - 交易序號(唯一值)\n",
        "*  fraud_ind - 冒用交易註記(預測目標)"
      ]
    },
    {
      "cell_type": "code",
      "metadata": {
        "colab": {
          "base_uri": "https://localhost:8080/",
          "height": 253
        },
        "id": "hIO2uJrgJVh2",
        "outputId": "9e869ac1-533e-4b76-d18b-c693b38f6917"
      },
      "source": [
        "train.head(5)"
      ],
      "execution_count": null,
      "outputs": [
        {
          "output_type": "execute_result",
          "data": {
            "text/html": [
              "<div>\n",
              "<style scoped>\n",
              "    .dataframe tbody tr th:only-of-type {\n",
              "        vertical-align: middle;\n",
              "    }\n",
              "\n",
              "    .dataframe tbody tr th {\n",
              "        vertical-align: top;\n",
              "    }\n",
              "\n",
              "    .dataframe thead th {\n",
              "        text-align: right;\n",
              "    }\n",
              "</style>\n",
              "<table border=\"1\" class=\"dataframe\">\n",
              "  <thead>\n",
              "    <tr style=\"text-align: right;\">\n",
              "      <th></th>\n",
              "      <th>txkey</th>\n",
              "      <th>conam</th>\n",
              "      <th>contp_0</th>\n",
              "      <th>contp_1</th>\n",
              "      <th>contp_2</th>\n",
              "      <th>contp_3</th>\n",
              "      <th>contp_4</th>\n",
              "      <th>contp_5</th>\n",
              "      <th>contp_6</th>\n",
              "      <th>csmcu_0</th>\n",
              "      <th>csmcu_1</th>\n",
              "      <th>csmcu_2</th>\n",
              "      <th>csmcu_3</th>\n",
              "      <th>csmcu_4</th>\n",
              "      <th>csmcu_5</th>\n",
              "      <th>csmcu_6</th>\n",
              "      <th>csmcu_7</th>\n",
              "      <th>csmcu_9</th>\n",
              "      <th>csmcu_10</th>\n",
              "      <th>csmcu_11</th>\n",
              "      <th>csmcu_12</th>\n",
              "      <th>csmcu_13</th>\n",
              "      <th>csmcu_14</th>\n",
              "      <th>csmcu_15</th>\n",
              "      <th>csmcu_16</th>\n",
              "      <th>csmcu_17</th>\n",
              "      <th>csmcu_18</th>\n",
              "      <th>csmcu_19</th>\n",
              "      <th>csmcu_20</th>\n",
              "      <th>csmcu_21</th>\n",
              "      <th>csmcu_22</th>\n",
              "      <th>csmcu_23</th>\n",
              "      <th>csmcu_24</th>\n",
              "      <th>csmcu_25</th>\n",
              "      <th>csmcu_26</th>\n",
              "      <th>csmcu_27</th>\n",
              "      <th>csmcu_28</th>\n",
              "      <th>csmcu_29</th>\n",
              "      <th>csmcu_30</th>\n",
              "      <th>csmcu_31</th>\n",
              "      <th>...</th>\n",
              "      <th>stocn_73</th>\n",
              "      <th>stocn_74</th>\n",
              "      <th>stocn_75</th>\n",
              "      <th>stocn_76</th>\n",
              "      <th>stocn_77</th>\n",
              "      <th>stocn_78</th>\n",
              "      <th>stocn_79</th>\n",
              "      <th>stocn_80</th>\n",
              "      <th>stocn_81</th>\n",
              "      <th>stocn_82</th>\n",
              "      <th>stocn_83</th>\n",
              "      <th>stocn_84</th>\n",
              "      <th>stocn_85</th>\n",
              "      <th>stocn_86</th>\n",
              "      <th>stocn_87</th>\n",
              "      <th>stocn_88</th>\n",
              "      <th>stocn_89</th>\n",
              "      <th>stocn_90</th>\n",
              "      <th>stocn_91</th>\n",
              "      <th>stocn_92</th>\n",
              "      <th>stocn_93</th>\n",
              "      <th>stocn_94</th>\n",
              "      <th>stocn_95</th>\n",
              "      <th>stocn_96</th>\n",
              "      <th>stocn_97</th>\n",
              "      <th>stocn_98</th>\n",
              "      <th>stocn_99</th>\n",
              "      <th>stocn_100</th>\n",
              "      <th>stocn_101</th>\n",
              "      <th>stocn_102</th>\n",
              "      <th>stocn_104</th>\n",
              "      <th>stocn_105</th>\n",
              "      <th>stocn_106</th>\n",
              "      <th>stocn_107</th>\n",
              "      <th>stscd_0</th>\n",
              "      <th>stscd_1</th>\n",
              "      <th>stscd_2</th>\n",
              "      <th>stscd_3</th>\n",
              "      <th>stscd_4</th>\n",
              "      <th>fraud_ind_0</th>\n",
              "    </tr>\n",
              "  </thead>\n",
              "  <tbody>\n",
              "    <tr>\n",
              "      <th>0</th>\n",
              "      <td>516056</td>\n",
              "      <td>-0.349849</td>\n",
              "      <td>0.0</td>\n",
              "      <td>0.0</td>\n",
              "      <td>0.0</td>\n",
              "      <td>0.0</td>\n",
              "      <td>0.0</td>\n",
              "      <td>1.0</td>\n",
              "      <td>0.0</td>\n",
              "      <td>1.0</td>\n",
              "      <td>0.0</td>\n",
              "      <td>0.0</td>\n",
              "      <td>0.0</td>\n",
              "      <td>0.0</td>\n",
              "      <td>0.0</td>\n",
              "      <td>0.0</td>\n",
              "      <td>0.0</td>\n",
              "      <td>0.0</td>\n",
              "      <td>0.0</td>\n",
              "      <td>0.0</td>\n",
              "      <td>0.0</td>\n",
              "      <td>0.0</td>\n",
              "      <td>0.0</td>\n",
              "      <td>0.0</td>\n",
              "      <td>0.0</td>\n",
              "      <td>0.0</td>\n",
              "      <td>0.0</td>\n",
              "      <td>0.0</td>\n",
              "      <td>0.0</td>\n",
              "      <td>0.0</td>\n",
              "      <td>0.0</td>\n",
              "      <td>0.0</td>\n",
              "      <td>0.0</td>\n",
              "      <td>0.0</td>\n",
              "      <td>0.0</td>\n",
              "      <td>0.0</td>\n",
              "      <td>0.0</td>\n",
              "      <td>0.0</td>\n",
              "      <td>0.0</td>\n",
              "      <td>0.0</td>\n",
              "      <td>...</td>\n",
              "      <td>0.0</td>\n",
              "      <td>0.0</td>\n",
              "      <td>0.0</td>\n",
              "      <td>0.0</td>\n",
              "      <td>0.0</td>\n",
              "      <td>0.0</td>\n",
              "      <td>0.0</td>\n",
              "      <td>0.0</td>\n",
              "      <td>0.0</td>\n",
              "      <td>0.0</td>\n",
              "      <td>0.0</td>\n",
              "      <td>0.0</td>\n",
              "      <td>0.0</td>\n",
              "      <td>0.0</td>\n",
              "      <td>0.0</td>\n",
              "      <td>0.0</td>\n",
              "      <td>0.0</td>\n",
              "      <td>0.0</td>\n",
              "      <td>0.0</td>\n",
              "      <td>0.0</td>\n",
              "      <td>0.0</td>\n",
              "      <td>0.0</td>\n",
              "      <td>0.0</td>\n",
              "      <td>0.0</td>\n",
              "      <td>0.0</td>\n",
              "      <td>0.0</td>\n",
              "      <td>0.0</td>\n",
              "      <td>0.0</td>\n",
              "      <td>0.0</td>\n",
              "      <td>1.0</td>\n",
              "      <td>0.0</td>\n",
              "      <td>0.0</td>\n",
              "      <td>0.0</td>\n",
              "      <td>0.0</td>\n",
              "      <td>1.0</td>\n",
              "      <td>0.0</td>\n",
              "      <td>0.0</td>\n",
              "      <td>0.0</td>\n",
              "      <td>0.0</td>\n",
              "      <td>1.0</td>\n",
              "    </tr>\n",
              "    <tr>\n",
              "      <th>1</th>\n",
              "      <td>483434</td>\n",
              "      <td>-0.349849</td>\n",
              "      <td>0.0</td>\n",
              "      <td>0.0</td>\n",
              "      <td>0.0</td>\n",
              "      <td>0.0</td>\n",
              "      <td>0.0</td>\n",
              "      <td>1.0</td>\n",
              "      <td>0.0</td>\n",
              "      <td>1.0</td>\n",
              "      <td>0.0</td>\n",
              "      <td>0.0</td>\n",
              "      <td>0.0</td>\n",
              "      <td>0.0</td>\n",
              "      <td>0.0</td>\n",
              "      <td>0.0</td>\n",
              "      <td>0.0</td>\n",
              "      <td>0.0</td>\n",
              "      <td>0.0</td>\n",
              "      <td>0.0</td>\n",
              "      <td>0.0</td>\n",
              "      <td>0.0</td>\n",
              "      <td>0.0</td>\n",
              "      <td>0.0</td>\n",
              "      <td>0.0</td>\n",
              "      <td>0.0</td>\n",
              "      <td>0.0</td>\n",
              "      <td>0.0</td>\n",
              "      <td>0.0</td>\n",
              "      <td>0.0</td>\n",
              "      <td>0.0</td>\n",
              "      <td>0.0</td>\n",
              "      <td>0.0</td>\n",
              "      <td>0.0</td>\n",
              "      <td>0.0</td>\n",
              "      <td>0.0</td>\n",
              "      <td>0.0</td>\n",
              "      <td>0.0</td>\n",
              "      <td>0.0</td>\n",
              "      <td>0.0</td>\n",
              "      <td>...</td>\n",
              "      <td>0.0</td>\n",
              "      <td>0.0</td>\n",
              "      <td>0.0</td>\n",
              "      <td>0.0</td>\n",
              "      <td>0.0</td>\n",
              "      <td>0.0</td>\n",
              "      <td>0.0</td>\n",
              "      <td>0.0</td>\n",
              "      <td>0.0</td>\n",
              "      <td>0.0</td>\n",
              "      <td>0.0</td>\n",
              "      <td>0.0</td>\n",
              "      <td>0.0</td>\n",
              "      <td>0.0</td>\n",
              "      <td>0.0</td>\n",
              "      <td>0.0</td>\n",
              "      <td>0.0</td>\n",
              "      <td>0.0</td>\n",
              "      <td>0.0</td>\n",
              "      <td>0.0</td>\n",
              "      <td>0.0</td>\n",
              "      <td>0.0</td>\n",
              "      <td>0.0</td>\n",
              "      <td>0.0</td>\n",
              "      <td>0.0</td>\n",
              "      <td>0.0</td>\n",
              "      <td>0.0</td>\n",
              "      <td>0.0</td>\n",
              "      <td>0.0</td>\n",
              "      <td>1.0</td>\n",
              "      <td>0.0</td>\n",
              "      <td>0.0</td>\n",
              "      <td>0.0</td>\n",
              "      <td>0.0</td>\n",
              "      <td>1.0</td>\n",
              "      <td>0.0</td>\n",
              "      <td>0.0</td>\n",
              "      <td>0.0</td>\n",
              "      <td>0.0</td>\n",
              "      <td>1.0</td>\n",
              "    </tr>\n",
              "    <tr>\n",
              "      <th>2</th>\n",
              "      <td>1407164</td>\n",
              "      <td>0.897173</td>\n",
              "      <td>0.0</td>\n",
              "      <td>0.0</td>\n",
              "      <td>0.0</td>\n",
              "      <td>0.0</td>\n",
              "      <td>0.0</td>\n",
              "      <td>1.0</td>\n",
              "      <td>0.0</td>\n",
              "      <td>0.0</td>\n",
              "      <td>0.0</td>\n",
              "      <td>0.0</td>\n",
              "      <td>0.0</td>\n",
              "      <td>0.0</td>\n",
              "      <td>0.0</td>\n",
              "      <td>0.0</td>\n",
              "      <td>0.0</td>\n",
              "      <td>0.0</td>\n",
              "      <td>0.0</td>\n",
              "      <td>0.0</td>\n",
              "      <td>0.0</td>\n",
              "      <td>0.0</td>\n",
              "      <td>0.0</td>\n",
              "      <td>0.0</td>\n",
              "      <td>0.0</td>\n",
              "      <td>0.0</td>\n",
              "      <td>0.0</td>\n",
              "      <td>0.0</td>\n",
              "      <td>0.0</td>\n",
              "      <td>0.0</td>\n",
              "      <td>0.0</td>\n",
              "      <td>0.0</td>\n",
              "      <td>0.0</td>\n",
              "      <td>0.0</td>\n",
              "      <td>0.0</td>\n",
              "      <td>0.0</td>\n",
              "      <td>0.0</td>\n",
              "      <td>0.0</td>\n",
              "      <td>0.0</td>\n",
              "      <td>0.0</td>\n",
              "      <td>...</td>\n",
              "      <td>0.0</td>\n",
              "      <td>0.0</td>\n",
              "      <td>0.0</td>\n",
              "      <td>0.0</td>\n",
              "      <td>0.0</td>\n",
              "      <td>0.0</td>\n",
              "      <td>0.0</td>\n",
              "      <td>0.0</td>\n",
              "      <td>0.0</td>\n",
              "      <td>0.0</td>\n",
              "      <td>0.0</td>\n",
              "      <td>0.0</td>\n",
              "      <td>0.0</td>\n",
              "      <td>0.0</td>\n",
              "      <td>0.0</td>\n",
              "      <td>0.0</td>\n",
              "      <td>0.0</td>\n",
              "      <td>0.0</td>\n",
              "      <td>0.0</td>\n",
              "      <td>0.0</td>\n",
              "      <td>0.0</td>\n",
              "      <td>0.0</td>\n",
              "      <td>0.0</td>\n",
              "      <td>0.0</td>\n",
              "      <td>0.0</td>\n",
              "      <td>0.0</td>\n",
              "      <td>0.0</td>\n",
              "      <td>0.0</td>\n",
              "      <td>0.0</td>\n",
              "      <td>1.0</td>\n",
              "      <td>0.0</td>\n",
              "      <td>0.0</td>\n",
              "      <td>0.0</td>\n",
              "      <td>0.0</td>\n",
              "      <td>1.0</td>\n",
              "      <td>0.0</td>\n",
              "      <td>0.0</td>\n",
              "      <td>0.0</td>\n",
              "      <td>0.0</td>\n",
              "      <td>1.0</td>\n",
              "    </tr>\n",
              "    <tr>\n",
              "      <th>3</th>\n",
              "      <td>1051004</td>\n",
              "      <td>0.146318</td>\n",
              "      <td>0.0</td>\n",
              "      <td>0.0</td>\n",
              "      <td>0.0</td>\n",
              "      <td>0.0</td>\n",
              "      <td>0.0</td>\n",
              "      <td>1.0</td>\n",
              "      <td>0.0</td>\n",
              "      <td>0.0</td>\n",
              "      <td>0.0</td>\n",
              "      <td>0.0</td>\n",
              "      <td>0.0</td>\n",
              "      <td>0.0</td>\n",
              "      <td>0.0</td>\n",
              "      <td>0.0</td>\n",
              "      <td>0.0</td>\n",
              "      <td>0.0</td>\n",
              "      <td>0.0</td>\n",
              "      <td>0.0</td>\n",
              "      <td>0.0</td>\n",
              "      <td>0.0</td>\n",
              "      <td>0.0</td>\n",
              "      <td>0.0</td>\n",
              "      <td>0.0</td>\n",
              "      <td>0.0</td>\n",
              "      <td>0.0</td>\n",
              "      <td>0.0</td>\n",
              "      <td>0.0</td>\n",
              "      <td>0.0</td>\n",
              "      <td>0.0</td>\n",
              "      <td>0.0</td>\n",
              "      <td>0.0</td>\n",
              "      <td>0.0</td>\n",
              "      <td>0.0</td>\n",
              "      <td>0.0</td>\n",
              "      <td>0.0</td>\n",
              "      <td>0.0</td>\n",
              "      <td>0.0</td>\n",
              "      <td>0.0</td>\n",
              "      <td>...</td>\n",
              "      <td>0.0</td>\n",
              "      <td>0.0</td>\n",
              "      <td>0.0</td>\n",
              "      <td>0.0</td>\n",
              "      <td>0.0</td>\n",
              "      <td>0.0</td>\n",
              "      <td>0.0</td>\n",
              "      <td>0.0</td>\n",
              "      <td>0.0</td>\n",
              "      <td>0.0</td>\n",
              "      <td>0.0</td>\n",
              "      <td>0.0</td>\n",
              "      <td>0.0</td>\n",
              "      <td>0.0</td>\n",
              "      <td>0.0</td>\n",
              "      <td>0.0</td>\n",
              "      <td>0.0</td>\n",
              "      <td>0.0</td>\n",
              "      <td>0.0</td>\n",
              "      <td>0.0</td>\n",
              "      <td>0.0</td>\n",
              "      <td>0.0</td>\n",
              "      <td>0.0</td>\n",
              "      <td>0.0</td>\n",
              "      <td>0.0</td>\n",
              "      <td>0.0</td>\n",
              "      <td>0.0</td>\n",
              "      <td>0.0</td>\n",
              "      <td>0.0</td>\n",
              "      <td>1.0</td>\n",
              "      <td>0.0</td>\n",
              "      <td>0.0</td>\n",
              "      <td>0.0</td>\n",
              "      <td>0.0</td>\n",
              "      <td>1.0</td>\n",
              "      <td>0.0</td>\n",
              "      <td>0.0</td>\n",
              "      <td>0.0</td>\n",
              "      <td>0.0</td>\n",
              "      <td>1.0</td>\n",
              "    </tr>\n",
              "    <tr>\n",
              "      <th>4</th>\n",
              "      <td>1622153</td>\n",
              "      <td>2.859350</td>\n",
              "      <td>0.0</td>\n",
              "      <td>0.0</td>\n",
              "      <td>0.0</td>\n",
              "      <td>1.0</td>\n",
              "      <td>0.0</td>\n",
              "      <td>0.0</td>\n",
              "      <td>0.0</td>\n",
              "      <td>0.0</td>\n",
              "      <td>0.0</td>\n",
              "      <td>0.0</td>\n",
              "      <td>0.0</td>\n",
              "      <td>0.0</td>\n",
              "      <td>0.0</td>\n",
              "      <td>0.0</td>\n",
              "      <td>0.0</td>\n",
              "      <td>0.0</td>\n",
              "      <td>0.0</td>\n",
              "      <td>0.0</td>\n",
              "      <td>0.0</td>\n",
              "      <td>0.0</td>\n",
              "      <td>0.0</td>\n",
              "      <td>0.0</td>\n",
              "      <td>0.0</td>\n",
              "      <td>0.0</td>\n",
              "      <td>0.0</td>\n",
              "      <td>0.0</td>\n",
              "      <td>0.0</td>\n",
              "      <td>0.0</td>\n",
              "      <td>0.0</td>\n",
              "      <td>0.0</td>\n",
              "      <td>0.0</td>\n",
              "      <td>0.0</td>\n",
              "      <td>0.0</td>\n",
              "      <td>0.0</td>\n",
              "      <td>0.0</td>\n",
              "      <td>0.0</td>\n",
              "      <td>0.0</td>\n",
              "      <td>0.0</td>\n",
              "      <td>...</td>\n",
              "      <td>0.0</td>\n",
              "      <td>0.0</td>\n",
              "      <td>0.0</td>\n",
              "      <td>0.0</td>\n",
              "      <td>0.0</td>\n",
              "      <td>0.0</td>\n",
              "      <td>0.0</td>\n",
              "      <td>0.0</td>\n",
              "      <td>0.0</td>\n",
              "      <td>0.0</td>\n",
              "      <td>0.0</td>\n",
              "      <td>0.0</td>\n",
              "      <td>0.0</td>\n",
              "      <td>0.0</td>\n",
              "      <td>0.0</td>\n",
              "      <td>0.0</td>\n",
              "      <td>0.0</td>\n",
              "      <td>0.0</td>\n",
              "      <td>0.0</td>\n",
              "      <td>0.0</td>\n",
              "      <td>0.0</td>\n",
              "      <td>0.0</td>\n",
              "      <td>0.0</td>\n",
              "      <td>0.0</td>\n",
              "      <td>0.0</td>\n",
              "      <td>0.0</td>\n",
              "      <td>0.0</td>\n",
              "      <td>0.0</td>\n",
              "      <td>0.0</td>\n",
              "      <td>1.0</td>\n",
              "      <td>0.0</td>\n",
              "      <td>0.0</td>\n",
              "      <td>0.0</td>\n",
              "      <td>0.0</td>\n",
              "      <td>1.0</td>\n",
              "      <td>0.0</td>\n",
              "      <td>0.0</td>\n",
              "      <td>0.0</td>\n",
              "      <td>0.0</td>\n",
              "      <td>1.0</td>\n",
              "    </tr>\n",
              "  </tbody>\n",
              "</table>\n",
              "<p>5 rows × 229 columns</p>\n",
              "</div>"
            ],
            "text/plain": [
              "     txkey     conam  contp_0  contp_1  ...  stscd_2  stscd_3  stscd_4  fraud_ind_0\n",
              "0   516056 -0.349849      0.0      0.0  ...      0.0      0.0      0.0          1.0\n",
              "1   483434 -0.349849      0.0      0.0  ...      0.0      0.0      0.0          1.0\n",
              "2  1407164  0.897173      0.0      0.0  ...      0.0      0.0      0.0          1.0\n",
              "3  1051004  0.146318      0.0      0.0  ...      0.0      0.0      0.0          1.0\n",
              "4  1622153  2.859350      0.0      0.0  ...      0.0      0.0      0.0          1.0\n",
              "\n",
              "[5 rows x 229 columns]"
            ]
          },
          "metadata": {
            "tags": []
          },
          "execution_count": 112
        }
      ]
    },
    {
      "cell_type": "code",
      "metadata": {
        "colab": {
          "base_uri": "https://localhost:8080/",
          "height": 204
        },
        "id": "UmISiK6aVlPN",
        "outputId": "5c8986ce-59ba-4a71-d742-dbfb200c7f0d"
      },
      "source": [
        "# test.head(5)"
      ],
      "execution_count": null,
      "outputs": [
        {
          "output_type": "execute_result",
          "data": {
            "text/html": [
              "<div>\n",
              "<style scoped>\n",
              "    .dataframe tbody tr th:only-of-type {\n",
              "        vertical-align: middle;\n",
              "    }\n",
              "\n",
              "    .dataframe tbody tr th {\n",
              "        vertical-align: top;\n",
              "    }\n",
              "\n",
              "    .dataframe thead th {\n",
              "        text-align: right;\n",
              "    }\n",
              "</style>\n",
              "<table border=\"1\" class=\"dataframe\">\n",
              "  <thead>\n",
              "    <tr style=\"text-align: right;\">\n",
              "      <th></th>\n",
              "      <th>acqic</th>\n",
              "      <th>bacno</th>\n",
              "      <th>cano</th>\n",
              "      <th>conam</th>\n",
              "      <th>contp</th>\n",
              "      <th>csmcu</th>\n",
              "      <th>ecfg</th>\n",
              "      <th>etymd</th>\n",
              "      <th>flbmk</th>\n",
              "      <th>flg_3dsmk</th>\n",
              "      <th>fraud_ind</th>\n",
              "      <th>hcefg</th>\n",
              "      <th>insfg</th>\n",
              "      <th>iterm</th>\n",
              "      <th>locdt</th>\n",
              "      <th>loctm</th>\n",
              "      <th>mcc</th>\n",
              "      <th>mchno</th>\n",
              "      <th>ovrlt</th>\n",
              "      <th>scity</th>\n",
              "      <th>stocn</th>\n",
              "      <th>stscd</th>\n",
              "      <th>txkey</th>\n",
              "    </tr>\n",
              "  </thead>\n",
              "  <tbody>\n",
              "    <tr>\n",
              "      <th>0</th>\n",
              "      <td>0</td>\n",
              "      <td>134508</td>\n",
              "      <td>45725</td>\n",
              "      <td>465.62</td>\n",
              "      <td>5</td>\n",
              "      <td>0</td>\n",
              "      <td>N</td>\n",
              "      <td>2</td>\n",
              "      <td>N</td>\n",
              "      <td>N</td>\n",
              "      <td>0</td>\n",
              "      <td>0</td>\n",
              "      <td>N</td>\n",
              "      <td>0</td>\n",
              "      <td>9</td>\n",
              "      <td>105114.0</td>\n",
              "      <td>451</td>\n",
              "      <td>0</td>\n",
              "      <td>N</td>\n",
              "      <td>5817</td>\n",
              "      <td>102</td>\n",
              "      <td>0</td>\n",
              "      <td>4376</td>\n",
              "    </tr>\n",
              "    <tr>\n",
              "      <th>1</th>\n",
              "      <td>0</td>\n",
              "      <td>78377</td>\n",
              "      <td>2295</td>\n",
              "      <td>465.62</td>\n",
              "      <td>5</td>\n",
              "      <td>0</td>\n",
              "      <td>N</td>\n",
              "      <td>2</td>\n",
              "      <td>N</td>\n",
              "      <td>N</td>\n",
              "      <td>0</td>\n",
              "      <td>0</td>\n",
              "      <td>N</td>\n",
              "      <td>0</td>\n",
              "      <td>6</td>\n",
              "      <td>104918.0</td>\n",
              "      <td>451</td>\n",
              "      <td>0</td>\n",
              "      <td>N</td>\n",
              "      <td>5817</td>\n",
              "      <td>102</td>\n",
              "      <td>0</td>\n",
              "      <td>2943</td>\n",
              "    </tr>\n",
              "    <tr>\n",
              "      <th>2</th>\n",
              "      <td>0</td>\n",
              "      <td>151054</td>\n",
              "      <td>197751</td>\n",
              "      <td>465.62</td>\n",
              "      <td>5</td>\n",
              "      <td>0</td>\n",
              "      <td>N</td>\n",
              "      <td>2</td>\n",
              "      <td>N</td>\n",
              "      <td>N</td>\n",
              "      <td>0</td>\n",
              "      <td>0</td>\n",
              "      <td>N</td>\n",
              "      <td>0</td>\n",
              "      <td>7</td>\n",
              "      <td>104917.0</td>\n",
              "      <td>451</td>\n",
              "      <td>0</td>\n",
              "      <td>N</td>\n",
              "      <td>5817</td>\n",
              "      <td>102</td>\n",
              "      <td>0</td>\n",
              "      <td>3387</td>\n",
              "    </tr>\n",
              "    <tr>\n",
              "      <th>3</th>\n",
              "      <td>6716</td>\n",
              "      <td>150887</td>\n",
              "      <td>4541</td>\n",
              "      <td>930.31</td>\n",
              "      <td>5</td>\n",
              "      <td>62</td>\n",
              "      <td>N</td>\n",
              "      <td>4</td>\n",
              "      <td>N</td>\n",
              "      <td>N</td>\n",
              "      <td>0</td>\n",
              "      <td>5</td>\n",
              "      <td>N</td>\n",
              "      <td>0</td>\n",
              "      <td>8</td>\n",
              "      <td>142028.0</td>\n",
              "      <td>329</td>\n",
              "      <td>37560</td>\n",
              "      <td>N</td>\n",
              "      <td>5820</td>\n",
              "      <td>102</td>\n",
              "      <td>0</td>\n",
              "      <td>1765957</td>\n",
              "    </tr>\n",
              "    <tr>\n",
              "      <th>4</th>\n",
              "      <td>6882</td>\n",
              "      <td>110356</td>\n",
              "      <td>133430</td>\n",
              "      <td>0.00</td>\n",
              "      <td>5</td>\n",
              "      <td>0</td>\n",
              "      <td>N</td>\n",
              "      <td>0</td>\n",
              "      <td>N</td>\n",
              "      <td>N</td>\n",
              "      <td>0</td>\n",
              "      <td>0</td>\n",
              "      <td>N</td>\n",
              "      <td>0</td>\n",
              "      <td>9</td>\n",
              "      <td>143657.0</td>\n",
              "      <td>459</td>\n",
              "      <td>2461</td>\n",
              "      <td>N</td>\n",
              "      <td>0</td>\n",
              "      <td>102</td>\n",
              "      <td>0</td>\n",
              "      <td>611269</td>\n",
              "    </tr>\n",
              "  </tbody>\n",
              "</table>\n",
              "</div>"
            ],
            "text/plain": [
              "   acqic   bacno    cano   conam  contp  ...  ovrlt scity  stocn stscd    txkey\n",
              "0      0  134508   45725  465.62      5  ...      N  5817    102     0     4376\n",
              "1      0   78377    2295  465.62      5  ...      N  5817    102     0     2943\n",
              "2      0  151054  197751  465.62      5  ...      N  5817    102     0     3387\n",
              "3   6716  150887    4541  930.31      5  ...      N  5820    102     0  1765957\n",
              "4   6882  110356  133430    0.00      5  ...      N     0    102     0   611269\n",
              "\n",
              "[5 rows x 23 columns]"
            ]
          },
          "metadata": {
            "tags": []
          },
          "execution_count": 49
        }
      ]
    },
    {
      "cell_type": "markdown",
      "metadata": {
        "id": "Ab8jmZx2Xk7p"
      },
      "source": [
        "### **Training Set Correlation Heatmap**"
      ]
    },
    {
      "cell_type": "code",
      "metadata": {
        "colab": {
          "base_uri": "https://localhost:8080/"
        },
        "id": "sXlYRDUt2CzG",
        "outputId": "d3cc3204-3a3d-4c94-cdd6-84597aa43d39"
      },
      "source": [
        "# print(type(train.keys()))\n",
        "keys = []\n",
        "for key in train.keys():\n",
        "  keys.append(key)\n",
        "  # print(key)\n",
        "print(len(keys))\n",
        "\n",
        "# Y - target\n",
        "fraud = [keys[228]]\n",
        "\n",
        "# 連續型\n",
        "txkey = [keys[0]]\n",
        "conam = [keys[1]]\n",
        "\n",
        "# 類別型\n",
        "contp = keys[2:9]\n",
        "csmcu = keys[9:81]\n",
        "ecfg = keys[81:83]\n",
        "etymd = keys[83:94]\n",
        "flbmk = keys[94:96]\n",
        "flg_3dsmk = keys[96:98]\n",
        "hcefg = keys[98:107]\n",
        "insfg = keys[107:109]\n",
        "iterm = keys[109:118]\n",
        "ovrlt = keys[118:120]\n",
        "stocn = keys[120:223]\n",
        "stscd = keys[223:228]\n"
      ],
      "execution_count": null,
      "outputs": [
        {
          "output_type": "stream",
          "text": [
            "229\n"
          ],
          "name": "stdout"
        }
      ]
    },
    {
      "cell_type": "code",
      "metadata": {
        "colab": {
          "base_uri": "https://localhost:8080/",
          "height": 717
        },
        "id": "PZLVD50kWLgS",
        "outputId": "89a13e46-7c35-49ff-f8a3-ce3eb6e2ecdb"
      },
      "source": [
        "data = train[ fraud+txkey+conam+stscd ]\n",
        "\n",
        "fig=plt.figure(figsize= (12, 12))\n",
        "fig = plt.title('With [ blank ] ')\n",
        "sns.heatmap(data.corr(), cmap='Blues')\n",
        "\n",
        "plt.show()"
      ],
      "execution_count": null,
      "outputs": [
        {
          "output_type": "display_data",
          "data": {
            "image/png": "[encoded data removed]",
            "text/plain": [
              "<Figure size 864x864 with 2 Axes>"
            ]
          },
          "metadata": {
            "tags": [],
            "needs_background": "light"
          }
        }
      ]
    },
    {
      "cell_type": "code",
      "metadata": {
        "colab": {
          "base_uri": "https://localhost:8080/",
          "height": 295
        },
        "id": "IrETTn_7X5XY",
        "outputId": "b5f8652e-fd70-45a3-e3e5-b509ac76119d"
      },
      "source": [
        "LABELS = [\"Normal\", \"Fraud\"]\n",
        "\n",
        "count_classes = pd.value_counts(train['fraud_ind'], sort = True)\n",
        "count_classes.plot(kind = 'bar', rot=0)\n",
        "plt.title(\"Transaction class distribution\")\n",
        "plt.xticks(range(2), LABELS)\n",
        "plt.xlabel(\"Class\")\n",
        "plt.ylabel(\"Frequency\");"
      ],
      "execution_count": null,
      "outputs": [
        {
          "output_type": "display_data",
          "data": {
            "image/png": "[encoded data removed]",
            "text/plain": [
              "<Figure size 432x288 with 1 Axes>"
            ]
          },
          "metadata": {
            "tags": [],
            "needs_background": "light"
          }
        }
      ]
    },
    {
      "cell_type": "code",
      "metadata": {
        "colab": {
          "base_uri": "https://localhost:8080/"
        },
        "id": "nM3alalgYcfR",
        "outputId": "23950dd9-fdfa-44d7-93a1-b4b56c842ef2"
      },
      "source": [
        "frauds = train[train.fraud_ind == 1]\n",
        "normal = train[train.fraud_ind == 0]\n",
        "# frauds = test[train.fraud_ind == 1]\n",
        "# normal = test[train.fraud_ind == 0]\n",
        "\n",
        "print(frauds.shape)\n",
        "print(normal.shape)"
      ],
      "execution_count": null,
      "outputs": [
        {
          "output_type": "stream",
          "text": [
            "(15283, 23)\n",
            "(1126057, 23)\n"
          ],
          "name": "stdout"
        }
      ]
    },
    {
      "cell_type": "markdown",
      "metadata": {
        "id": "SHegxJ8sazQI"
      },
      "source": [
        "## **盜刷案件的金額通常較小**"
      ]
    },
    {
      "cell_type": "code",
      "metadata": {
        "colab": {
          "base_uri": "https://localhost:8080/",
          "height": 325
        },
        "id": "B65IgqsvZibR",
        "outputId": "2500e363-a07d-4878-f928-defafde9edda"
      },
      "source": [
        "fig=plt.figure(figsize= (250,100)) \n",
        "f, (ax1, ax2) = plt.subplots(2, 1, sharex=True)\n",
        "f.suptitle('Amount per transaction by class')\n",
        "\n",
        "bins = 50\n",
        "\n",
        "ax1.hist(frauds.conam, bins = bins)\n",
        "ax1.set_title('Fraud')\n",
        "\n",
        "ax2.hist(normal.conam, bins = bins)\n",
        "ax2.set_title('Normal')\n",
        "\n",
        "plt.xlabel('Amount ($)')\n",
        "plt.ylabel('Number of Transactions')\n",
        "plt.xlim((0, 10000))\n",
        "plt.yscale('log')\n",
        "plt.show();"
      ],
      "execution_count": null,
      "outputs": [
        {
          "output_type": "display_data",
          "data": {
            "text/plain": [
              "<Figure size 18000x7200 with 0 Axes>"
            ]
          },
          "metadata": {
            "tags": []
          }
        },
        {
          "output_type": "display_data",
          "data": {
            "image/png": "[encoded data removed]",
            "text/plain": [
              "<Figure size 432x288 with 2 Axes>"
            ]
          },
          "metadata": {
            "tags": [],
            "needs_background": "light"
          }
        }
      ]
    },
    {
      "cell_type": "code",
      "metadata": {
        "colab": {
          "base_uri": "https://localhost:8080/"
        },
        "id": "0Vju8B_gjOlo",
        "outputId": "32837fc3-aa5d-4a57-9be0-0bf97687b45b"
      },
      "source": [
        "print(frauds['conam'].describe())"
      ],
      "execution_count": null,
      "outputs": [
        {
          "output_type": "stream",
          "text": [
            "count    15283.000000\n",
            "mean       713.072810\n",
            "std        564.219474\n",
            "min          0.000000\n",
            "25%        223.110000\n",
            "50%        696.350000\n",
            "75%       1016.340000\n",
            "max       3353.250000\n",
            "Name: conam, dtype: float64\n"
          ],
          "name": "stdout"
        }
      ]
    },
    {
      "cell_type": "markdown",
      "metadata": {
        "id": "G-EY5XGKaol4"
      },
      "source": [
        "## **盜刷案件的時間分布：平均**"
      ]
    },
    {
      "cell_type": "code",
      "metadata": {
        "colab": {
          "base_uri": "https://localhost:8080/",
          "height": 325
        },
        "id": "1Xq8_As3an9R",
        "outputId": "2fd8eda3-ef6f-4a94-dea6-c0397e1c2a93"
      },
      "source": [
        "fig=plt.figure(figsize= (250,100)) \n",
        "f, (ax1, ax2) = plt.subplots(2, 1, sharex=True)\n",
        "f.suptitle('Time of transaction vs Amount by class')\n",
        "\n",
        "ax1.scatter(frauds.locdt, frauds.conam)\n",
        "ax1.set_title('Fraud')\n",
        "\n",
        "ax2.scatter(normal.locdt, normal.conam)\n",
        "ax2.set_title('Normal')\n",
        "\n",
        "plt.xlabel('Time (Date))')\n",
        "plt.ylabel('Amount ($)')\n",
        "plt.show()"
      ],
      "execution_count": null,
      "outputs": [
        {
          "output_type": "display_data",
          "data": {
            "text/plain": [
              "<Figure size 18000x7200 with 0 Axes>"
            ]
          },
          "metadata": {
            "tags": []
          }
        },
        {
          "output_type": "display_data",
          "data": {
            "image/png": "[encoded data removed]",
            "text/plain": [
              "<Figure size 432x288 with 2 Axes>"
            ]
          },
          "metadata": {
            "tags": [],
            "needs_background": "light"
          }
        }
      ]
    },
    {
      "cell_type": "code",
      "metadata": {
        "colab": {
          "base_uri": "https://localhost:8080/",
          "height": 204
        },
        "id": "zfzaf0j-fyZO",
        "outputId": "3889ed31-385b-450a-902b-9cfc3a76f3a7"
      },
      "source": [
        "# 資料修改前\n",
        "train.head(5)"
      ],
      "execution_count": null,
      "outputs": [
        {
          "output_type": "execute_result",
          "data": {
            "text/html": [
              "<div>\n",
              "<style scoped>\n",
              "    .dataframe tbody tr th:only-of-type {\n",
              "        vertical-align: middle;\n",
              "    }\n",
              "\n",
              "    .dataframe tbody tr th {\n",
              "        vertical-align: top;\n",
              "    }\n",
              "\n",
              "    .dataframe thead th {\n",
              "        text-align: right;\n",
              "    }\n",
              "</style>\n",
              "<table border=\"1\" class=\"dataframe\">\n",
              "  <thead>\n",
              "    <tr style=\"text-align: right;\">\n",
              "      <th></th>\n",
              "      <th>acqic</th>\n",
              "      <th>bacno</th>\n",
              "      <th>cano</th>\n",
              "      <th>conam</th>\n",
              "      <th>contp</th>\n",
              "      <th>csmcu</th>\n",
              "      <th>ecfg</th>\n",
              "      <th>etymd</th>\n",
              "      <th>flbmk</th>\n",
              "      <th>flg_3dsmk</th>\n",
              "      <th>fraud_ind</th>\n",
              "      <th>hcefg</th>\n",
              "      <th>insfg</th>\n",
              "      <th>iterm</th>\n",
              "      <th>locdt</th>\n",
              "      <th>loctm</th>\n",
              "      <th>mcc</th>\n",
              "      <th>mchno</th>\n",
              "      <th>ovrlt</th>\n",
              "      <th>scity</th>\n",
              "      <th>stocn</th>\n",
              "      <th>stscd</th>\n",
              "      <th>txkey</th>\n",
              "    </tr>\n",
              "  </thead>\n",
              "  <tbody>\n",
              "    <tr>\n",
              "      <th>0</th>\n",
              "      <td>6881</td>\n",
              "      <td>113261</td>\n",
              "      <td>38038</td>\n",
              "      <td>513.80</td>\n",
              "      <td>5</td>\n",
              "      <td>0</td>\n",
              "      <td>N</td>\n",
              "      <td>0</td>\n",
              "      <td>N</td>\n",
              "      <td>N</td>\n",
              "      <td>0</td>\n",
              "      <td>5</td>\n",
              "      <td>N</td>\n",
              "      <td>0</td>\n",
              "      <td>33</td>\n",
              "      <td>172652.0</td>\n",
              "      <td>457</td>\n",
              "      <td>59333</td>\n",
              "      <td>N</td>\n",
              "      <td>0</td>\n",
              "      <td>102</td>\n",
              "      <td>0</td>\n",
              "      <td>516056</td>\n",
              "    </tr>\n",
              "    <tr>\n",
              "      <th>1</th>\n",
              "      <td>6881</td>\n",
              "      <td>15408</td>\n",
              "      <td>188328</td>\n",
              "      <td>513.80</td>\n",
              "      <td>5</td>\n",
              "      <td>0</td>\n",
              "      <td>N</td>\n",
              "      <td>0</td>\n",
              "      <td>N</td>\n",
              "      <td>N</td>\n",
              "      <td>0</td>\n",
              "      <td>5</td>\n",
              "      <td>N</td>\n",
              "      <td>0</td>\n",
              "      <td>6</td>\n",
              "      <td>152458.0</td>\n",
              "      <td>457</td>\n",
              "      <td>59333</td>\n",
              "      <td>N</td>\n",
              "      <td>0</td>\n",
              "      <td>102</td>\n",
              "      <td>0</td>\n",
              "      <td>483434</td>\n",
              "    </tr>\n",
              "    <tr>\n",
              "      <th>2</th>\n",
              "      <td>6716</td>\n",
              "      <td>157159</td>\n",
              "      <td>29967</td>\n",
              "      <td>1016.11</td>\n",
              "      <td>5</td>\n",
              "      <td>62</td>\n",
              "      <td>N</td>\n",
              "      <td>5</td>\n",
              "      <td>N</td>\n",
              "      <td>N</td>\n",
              "      <td>0</td>\n",
              "      <td>5</td>\n",
              "      <td>N</td>\n",
              "      <td>0</td>\n",
              "      <td>5</td>\n",
              "      <td>172946.0</td>\n",
              "      <td>247</td>\n",
              "      <td>50436</td>\n",
              "      <td>N</td>\n",
              "      <td>3281</td>\n",
              "      <td>102</td>\n",
              "      <td>0</td>\n",
              "      <td>1407164</td>\n",
              "    </tr>\n",
              "    <tr>\n",
              "      <th>3</th>\n",
              "      <td>5975</td>\n",
              "      <td>105985</td>\n",
              "      <td>81305</td>\n",
              "      <td>713.66</td>\n",
              "      <td>5</td>\n",
              "      <td>62</td>\n",
              "      <td>N</td>\n",
              "      <td>4</td>\n",
              "      <td>N</td>\n",
              "      <td>N</td>\n",
              "      <td>0</td>\n",
              "      <td>5</td>\n",
              "      <td>N</td>\n",
              "      <td>0</td>\n",
              "      <td>6</td>\n",
              "      <td>182129.0</td>\n",
              "      <td>263</td>\n",
              "      <td>93775</td>\n",
              "      <td>N</td>\n",
              "      <td>5817</td>\n",
              "      <td>102</td>\n",
              "      <td>0</td>\n",
              "      <td>1051004</td>\n",
              "    </tr>\n",
              "    <tr>\n",
              "      <th>4</th>\n",
              "      <td>6411</td>\n",
              "      <td>94435</td>\n",
              "      <td>49219</td>\n",
              "      <td>1806.49</td>\n",
              "      <td>3</td>\n",
              "      <td>62</td>\n",
              "      <td>N</td>\n",
              "      <td>4</td>\n",
              "      <td>N</td>\n",
              "      <td>N</td>\n",
              "      <td>0</td>\n",
              "      <td>5</td>\n",
              "      <td>N</td>\n",
              "      <td>0</td>\n",
              "      <td>6</td>\n",
              "      <td>172624.0</td>\n",
              "      <td>339</td>\n",
              "      <td>0</td>\n",
              "      <td>N</td>\n",
              "      <td>5865</td>\n",
              "      <td>102</td>\n",
              "      <td>0</td>\n",
              "      <td>1622153</td>\n",
              "    </tr>\n",
              "  </tbody>\n",
              "</table>\n",
              "</div>"
            ],
            "text/plain": [
              "   acqic   bacno    cano    conam  contp  ...  ovrlt scity  stocn stscd    txkey\n",
              "0   6881  113261   38038   513.80      5  ...      N     0    102     0   516056\n",
              "1   6881   15408  188328   513.80      5  ...      N     0    102     0   483434\n",
              "2   6716  157159   29967  1016.11      5  ...      N  3281    102     0  1407164\n",
              "3   5975  105985   81305   713.66      5  ...      N  5817    102     0  1051004\n",
              "4   6411   94435   49219  1806.49      3  ...      N  5865    102     0  1622153\n",
              "\n",
              "[5 rows x 23 columns]"
            ]
          },
          "metadata": {
            "tags": []
          },
          "execution_count": 55
        }
      ]
    },
    {
      "cell_type": "code",
      "metadata": {
        "id": "wGZ-k3gQd-Y_"
      },
      "source": [
        "## 新增小時、分、秒欄位\n",
        "train['loctm_hh'] = train['loctm'].apply(lambda x: math.floor(x/10000))\n",
        "train['loctm_mm'] = train['loctm'].apply(lambda x: math.floor(x/100)-math.floor(x/10000)*100)\n",
        "train['loctm_ss'] = train['loctm'].apply(lambda x: math.floor(x)-math.floor(x/100)*100)\n",
        "\n",
        "test['loctm_hh'] = test['loctm'].apply(lambda x: math.floor(x/10000))\n",
        "test['loctm_mm'] = test['loctm'].apply(lambda x: math.floor(x/100)-math.floor(x/10000)*100)\n",
        "test['loctm_ss'] = test['loctm'].apply(lambda x: math.floor(x)-math.floor(x/100)*100)\n",
        "\n",
        "# 把'Y'變成1，'N'變成0\n",
        "train['ecfg'] = (train['ecfg']=='Y').astype(int)\n",
        "train['flbmk'] = (train['flbmk']=='Y').astype(int)\n",
        "train['flg_3dsmk'] = (train['flg_3dsmk']=='Y').astype(int)\n",
        "train['insfg'] = (train['insfg']=='Y').astype(int)\n",
        "train['ovrlt'] = (train['ovrlt']=='Y').astype(int)\n",
        "train['fraud_ind'] = (train['fraud_ind']=='Y').astype(int)\n",
        "\n",
        "test['ecfg'] = (test['ecfg']=='Y').astype(int)\n",
        "test['flbmk'] = (test['flbmk']=='Y').astype(int)\n",
        "test['flg_3dsmk'] = (test['flg_3dsmk']=='Y').astype(int)\n",
        "test['insfg'] = (test['insfg']=='Y').astype(int)\n",
        "test['ovrlt'] = (test['ovrlt']=='Y').astype(int)\n",
        "test['fraud_ind'] = (test['fraud_ind']=='Y').astype(int)"
      ],
      "execution_count": null,
      "outputs": []
    },
    {
      "cell_type": "code",
      "metadata": {
        "colab": {
          "base_uri": "https://localhost:8080/",
          "height": 204
        },
        "id": "_SzeYVo9eaEv",
        "outputId": "431ee3f9-806f-4438-8c25-faeabacdd23d"
      },
      "source": [
        "train.head(5)"
      ],
      "execution_count": null,
      "outputs": [
        {
          "output_type": "execute_result",
          "data": {
            "text/html": [
              "<div>\n",
              "<style scoped>\n",
              "    .dataframe tbody tr th:only-of-type {\n",
              "        vertical-align: middle;\n",
              "    }\n",
              "\n",
              "    .dataframe tbody tr th {\n",
              "        vertical-align: top;\n",
              "    }\n",
              "\n",
              "    .dataframe thead th {\n",
              "        text-align: right;\n",
              "    }\n",
              "</style>\n",
              "<table border=\"1\" class=\"dataframe\">\n",
              "  <thead>\n",
              "    <tr style=\"text-align: right;\">\n",
              "      <th></th>\n",
              "      <th>acqic</th>\n",
              "      <th>bacno</th>\n",
              "      <th>cano</th>\n",
              "      <th>conam</th>\n",
              "      <th>contp</th>\n",
              "      <th>csmcu</th>\n",
              "      <th>ecfg</th>\n",
              "      <th>etymd</th>\n",
              "      <th>flbmk</th>\n",
              "      <th>flg_3dsmk</th>\n",
              "      <th>fraud_ind</th>\n",
              "      <th>hcefg</th>\n",
              "      <th>insfg</th>\n",
              "      <th>iterm</th>\n",
              "      <th>locdt</th>\n",
              "      <th>loctm</th>\n",
              "      <th>mcc</th>\n",
              "      <th>mchno</th>\n",
              "      <th>ovrlt</th>\n",
              "      <th>scity</th>\n",
              "      <th>stocn</th>\n",
              "      <th>stscd</th>\n",
              "      <th>txkey</th>\n",
              "      <th>loctm_hh</th>\n",
              "      <th>loctm_mm</th>\n",
              "      <th>loctm_ss</th>\n",
              "    </tr>\n",
              "  </thead>\n",
              "  <tbody>\n",
              "    <tr>\n",
              "      <th>0</th>\n",
              "      <td>6881</td>\n",
              "      <td>113261</td>\n",
              "      <td>38038</td>\n",
              "      <td>513.80</td>\n",
              "      <td>5</td>\n",
              "      <td>0</td>\n",
              "      <td>0</td>\n",
              "      <td>0</td>\n",
              "      <td>0</td>\n",
              "      <td>0</td>\n",
              "      <td>0</td>\n",
              "      <td>5</td>\n",
              "      <td>0</td>\n",
              "      <td>0</td>\n",
              "      <td>33</td>\n",
              "      <td>172652.0</td>\n",
              "      <td>457</td>\n",
              "      <td>59333</td>\n",
              "      <td>0</td>\n",
              "      <td>0</td>\n",
              "      <td>102</td>\n",
              "      <td>0</td>\n",
              "      <td>516056</td>\n",
              "      <td>17</td>\n",
              "      <td>26</td>\n",
              "      <td>52</td>\n",
              "    </tr>\n",
              "    <tr>\n",
              "      <th>1</th>\n",
              "      <td>6881</td>\n",
              "      <td>15408</td>\n",
              "      <td>188328</td>\n",
              "      <td>513.80</td>\n",
              "      <td>5</td>\n",
              "      <td>0</td>\n",
              "      <td>0</td>\n",
              "      <td>0</td>\n",
              "      <td>0</td>\n",
              "      <td>0</td>\n",
              "      <td>0</td>\n",
              "      <td>5</td>\n",
              "      <td>0</td>\n",
              "      <td>0</td>\n",
              "      <td>6</td>\n",
              "      <td>152458.0</td>\n",
              "      <td>457</td>\n",
              "      <td>59333</td>\n",
              "      <td>0</td>\n",
              "      <td>0</td>\n",
              "      <td>102</td>\n",
              "      <td>0</td>\n",
              "      <td>483434</td>\n",
              "      <td>15</td>\n",
              "      <td>24</td>\n",
              "      <td>58</td>\n",
              "    </tr>\n",
              "    <tr>\n",
              "      <th>2</th>\n",
              "      <td>6716</td>\n",
              "      <td>157159</td>\n",
              "      <td>29967</td>\n",
              "      <td>1016.11</td>\n",
              "      <td>5</td>\n",
              "      <td>62</td>\n",
              "      <td>0</td>\n",
              "      <td>5</td>\n",
              "      <td>0</td>\n",
              "      <td>0</td>\n",
              "      <td>0</td>\n",
              "      <td>5</td>\n",
              "      <td>0</td>\n",
              "      <td>0</td>\n",
              "      <td>5</td>\n",
              "      <td>172946.0</td>\n",
              "      <td>247</td>\n",
              "      <td>50436</td>\n",
              "      <td>0</td>\n",
              "      <td>3281</td>\n",
              "      <td>102</td>\n",
              "      <td>0</td>\n",
              "      <td>1407164</td>\n",
              "      <td>17</td>\n",
              "      <td>29</td>\n",
              "      <td>46</td>\n",
              "    </tr>\n",
              "    <tr>\n",
              "      <th>3</th>\n",
              "      <td>5975</td>\n",
              "      <td>105985</td>\n",
              "      <td>81305</td>\n",
              "      <td>713.66</td>\n",
              "      <td>5</td>\n",
              "      <td>62</td>\n",
              "      <td>0</td>\n",
              "      <td>4</td>\n",
              "      <td>0</td>\n",
              "      <td>0</td>\n",
              "      <td>0</td>\n",
              "      <td>5</td>\n",
              "      <td>0</td>\n",
              "      <td>0</td>\n",
              "      <td>6</td>\n",
              "      <td>182129.0</td>\n",
              "      <td>263</td>\n",
              "      <td>93775</td>\n",
              "      <td>0</td>\n",
              "      <td>5817</td>\n",
              "      <td>102</td>\n",
              "      <td>0</td>\n",
              "      <td>1051004</td>\n",
              "      <td>18</td>\n",
              "      <td>21</td>\n",
              "      <td>29</td>\n",
              "    </tr>\n",
              "    <tr>\n",
              "      <th>4</th>\n",
              "      <td>6411</td>\n",
              "      <td>94435</td>\n",
              "      <td>49219</td>\n",
              "      <td>1806.49</td>\n",
              "      <td>3</td>\n",
              "      <td>62</td>\n",
              "      <td>0</td>\n",
              "      <td>4</td>\n",
              "      <td>0</td>\n",
              "      <td>0</td>\n",
              "      <td>0</td>\n",
              "      <td>5</td>\n",
              "      <td>0</td>\n",
              "      <td>0</td>\n",
              "      <td>6</td>\n",
              "      <td>172624.0</td>\n",
              "      <td>339</td>\n",
              "      <td>0</td>\n",
              "      <td>0</td>\n",
              "      <td>5865</td>\n",
              "      <td>102</td>\n",
              "      <td>0</td>\n",
              "      <td>1622153</td>\n",
              "      <td>17</td>\n",
              "      <td>26</td>\n",
              "      <td>24</td>\n",
              "    </tr>\n",
              "  </tbody>\n",
              "</table>\n",
              "</div>"
            ],
            "text/plain": [
              "   acqic   bacno    cano    conam  ...    txkey  loctm_hh  loctm_mm  loctm_ss\n",
              "0   6881  113261   38038   513.80  ...   516056        17        26        52\n",
              "1   6881   15408  188328   513.80  ...   483434        15        24        58\n",
              "2   6716  157159   29967  1016.11  ...  1407164        17        29        46\n",
              "3   5975  105985   81305   713.66  ...  1051004        18        21        29\n",
              "4   6411   94435   49219  1806.49  ...  1622153        17        26        24\n",
              "\n",
              "[5 rows x 26 columns]"
            ]
          },
          "metadata": {
            "tags": []
          },
          "execution_count": 41
        }
      ]
    },
    {
      "cell_type": "markdown",
      "metadata": {
        "id": "3n_kmr7Pjm0N"
      },
      "source": [
        "# **顧客分類**\n",
        "前提假設：假定顧客皆為理性消費者，會根據信用卡的權益內容選定適合的信用卡進行消費\n",
        "\b根據玉山銀行信用卡產品，主要分為以下三類：\n",
        "\n",
        "* 聯名卡：針對聯名特店進行消費（ex: 家樂福聯名卡、南山人壽聯名\b卡、統一時代聯名卡等）\n",
        "* 海外消費：\b針對\b海外交易進行消費\b（ex: 雙幣卡、only卡）\n",
        "* 一般消費：Pi 拍錢包信用卡、UBear信用卡（針對數位通路.超商等消費加碼回饋）\n",
        "---\n",
        "分類基準：\n",
        "* 是否為海外消費\n",
        "* 是否為網購\n",
        "* MCC消費種類數(商戶類別代碼Merchant Category Code是零售金融行業分配的4位數編碼，根據商戶類型（例如超市、酒店等）或商戶名稱（如3000為美聯航）。)"
      ]
    },
    {
      "cell_type": "markdown",
      "metadata": {
        "id": "3yS3ZcYO3jO_"
      },
      "source": [
        "### **各種視覺化 (後面沒毛用)**"
      ]
    },
    {
      "cell_type": "code",
      "metadata": {
        "colab": {
          "base_uri": "https://localhost:8080/"
        },
        "id": "2iL6ZDjlD547",
        "outputId": "0129328d-f6b9-4017-e94b-4907b9302992"
      },
      "source": [
        "# original data\n",
        "f1id = '1W0EL3w6qxHRa5ZFPYhYl87Piv7Y94ELG'\n",
        "f2id = '1mJv80_a17wXnXydZEPGXKFtnQRd5REsc'\n",
        "\n",
        "!pip3 install gdown\n",
        "import gdown\n",
        "url = 'https://drive.google.com/uc?id=%s'%(f1id)\n",
        "output = 'train.csv'\n",
        "gdown.download(url, output, quiet=False)\n",
        "url = 'https://drive.google.com/uc?id=%s'%(f2id)\n",
        "output = 'test.csv'\n",
        "gdown.download(url, output, quiet=False)\n",
        "\n",
        "import matplotlib.pyplot as plt\n",
        "import pandas as pd\n",
        "import numpy as np\n",
        "import seaborn as sns\n",
        "import math\n",
        "\n",
        "from sklearn.model_selection import train_test_split\n",
        "from sklearn import preprocessing\n",
        "from sklearn import metrics\n",
        "\n",
        "train = pd.read_csv('train.csv')\n",
        "test = pd.read_csv('test.csv')\n",
        "train.shape"
      ],
      "execution_count": null,
      "outputs": [
        {
          "output_type": "stream",
          "text": [
            "Requirement already satisfied: gdown in /usr/local/lib/python3.7/dist-packages (3.6.4)\n",
            "Requirement already satisfied: six in /usr/local/lib/python3.7/dist-packages (from gdown) (1.15.0)\n",
            "Requirement already satisfied: tqdm in /usr/local/lib/python3.7/dist-packages (from gdown) (4.41.1)\n",
            "Requirement already satisfied: requests in /usr/local/lib/python3.7/dist-packages (from gdown) (2.23.0)\n",
            "Requirement already satisfied: chardet<4,>=3.0.2 in /usr/local/lib/python3.7/dist-packages (from requests->gdown) (3.0.4)\n",
            "Requirement already satisfied: certifi>=2017.4.17 in /usr/local/lib/python3.7/dist-packages (from requests->gdown) (2020.12.5)\n",
            "Requirement already satisfied: urllib3!=1.25.0,!=1.25.1,<1.26,>=1.21.1 in /usr/local/lib/python3.7/dist-packages (from requests->gdown) (1.24.3)\n",
            "Requirement already satisfied: idna<3,>=2.5 in /usr/local/lib/python3.7/dist-packages (from requests->gdown) (2.10)\n"
          ],
          "name": "stdout"
        },
        {
          "output_type": "stream",
          "text": [
            "Downloading...\n",
            "From: https://drive.google.com/uc?id=1W0EL3w6qxHRa5ZFPYhYl87Piv7Y94ELG\n",
            "To: /content/train.csv\n",
            "99.2MB [00:02, 40.7MB/s]\n",
            "Downloading...\n",
            "From: https://drive.google.com/uc?id=1mJv80_a17wXnXydZEPGXKFtnQRd5REsc\n",
            "To: /content/test.csv\n",
            "33.1MB [00:00, 78.1MB/s]\n"
          ],
          "name": "stderr"
        },
        {
          "output_type": "execute_result",
          "data": {
            "text/plain": [
              "(1141340, 23)"
            ]
          },
          "metadata": {
            "tags": []
          },
          "execution_count": 3
        }
      ]
    },
    {
      "cell_type": "code",
      "metadata": {
        "colab": {
          "base_uri": "https://localhost:8080/",
          "height": 419
        },
        "id": "ou3oMaJVKWFn",
        "outputId": "61b5638f-b3bc-4445-9f84-13fd6da5d6bb"
      },
      "source": [
        "train"
      ],
      "execution_count": null,
      "outputs": [
        {
          "output_type": "execute_result",
          "data": {
            "text/html": [
              "<div>\n",
              "<style scoped>\n",
              "    .dataframe tbody tr th:only-of-type {\n",
              "        vertical-align: middle;\n",
              "    }\n",
              "\n",
              "    .dataframe tbody tr th {\n",
              "        vertical-align: top;\n",
              "    }\n",
              "\n",
              "    .dataframe thead th {\n",
              "        text-align: right;\n",
              "    }\n",
              "</style>\n",
              "<table border=\"1\" class=\"dataframe\">\n",
              "  <thead>\n",
              "    <tr style=\"text-align: right;\">\n",
              "      <th></th>\n",
              "      <th>acqic</th>\n",
              "      <th>bacno</th>\n",
              "      <th>cano</th>\n",
              "      <th>conam</th>\n",
              "      <th>contp</th>\n",
              "      <th>csmcu</th>\n",
              "      <th>ecfg</th>\n",
              "      <th>etymd</th>\n",
              "      <th>flbmk</th>\n",
              "      <th>flg_3dsmk</th>\n",
              "      <th>fraud_ind</th>\n",
              "      <th>hcefg</th>\n",
              "      <th>insfg</th>\n",
              "      <th>iterm</th>\n",
              "      <th>locdt</th>\n",
              "      <th>loctm</th>\n",
              "      <th>mcc</th>\n",
              "      <th>mchno</th>\n",
              "      <th>ovrlt</th>\n",
              "      <th>scity</th>\n",
              "      <th>stocn</th>\n",
              "      <th>stscd</th>\n",
              "      <th>txkey</th>\n",
              "    </tr>\n",
              "  </thead>\n",
              "  <tbody>\n",
              "    <tr>\n",
              "      <th>0</th>\n",
              "      <td>6881</td>\n",
              "      <td>113261</td>\n",
              "      <td>38038</td>\n",
              "      <td>513.80</td>\n",
              "      <td>5</td>\n",
              "      <td>0</td>\n",
              "      <td>N</td>\n",
              "      <td>0</td>\n",
              "      <td>N</td>\n",
              "      <td>N</td>\n",
              "      <td>0</td>\n",
              "      <td>5</td>\n",
              "      <td>N</td>\n",
              "      <td>0</td>\n",
              "      <td>33</td>\n",
              "      <td>172652.0</td>\n",
              "      <td>457</td>\n",
              "      <td>59333</td>\n",
              "      <td>N</td>\n",
              "      <td>0</td>\n",
              "      <td>102</td>\n",
              "      <td>0</td>\n",
              "      <td>516056</td>\n",
              "    </tr>\n",
              "    <tr>\n",
              "      <th>1</th>\n",
              "      <td>6881</td>\n",
              "      <td>15408</td>\n",
              "      <td>188328</td>\n",
              "      <td>513.80</td>\n",
              "      <td>5</td>\n",
              "      <td>0</td>\n",
              "      <td>N</td>\n",
              "      <td>0</td>\n",
              "      <td>N</td>\n",
              "      <td>N</td>\n",
              "      <td>0</td>\n",
              "      <td>5</td>\n",
              "      <td>N</td>\n",
              "      <td>0</td>\n",
              "      <td>6</td>\n",
              "      <td>152458.0</td>\n",
              "      <td>457</td>\n",
              "      <td>59333</td>\n",
              "      <td>N</td>\n",
              "      <td>0</td>\n",
              "      <td>102</td>\n",
              "      <td>0</td>\n",
              "      <td>483434</td>\n",
              "    </tr>\n",
              "    <tr>\n",
              "      <th>2</th>\n",
              "      <td>6716</td>\n",
              "      <td>157159</td>\n",
              "      <td>29967</td>\n",
              "      <td>1016.11</td>\n",
              "      <td>5</td>\n",
              "      <td>62</td>\n",
              "      <td>N</td>\n",
              "      <td>5</td>\n",
              "      <td>N</td>\n",
              "      <td>N</td>\n",
              "      <td>0</td>\n",
              "      <td>5</td>\n",
              "      <td>N</td>\n",
              "      <td>0</td>\n",
              "      <td>5</td>\n",
              "      <td>172946.0</td>\n",
              "      <td>247</td>\n",
              "      <td>50436</td>\n",
              "      <td>N</td>\n",
              "      <td>3281</td>\n",
              "      <td>102</td>\n",
              "      <td>0</td>\n",
              "      <td>1407164</td>\n",
              "    </tr>\n",
              "    <tr>\n",
              "      <th>3</th>\n",
              "      <td>5975</td>\n",
              "      <td>105985</td>\n",
              "      <td>81305</td>\n",
              "      <td>713.66</td>\n",
              "      <td>5</td>\n",
              "      <td>62</td>\n",
              "      <td>N</td>\n",
              "      <td>4</td>\n",
              "      <td>N</td>\n",
              "      <td>N</td>\n",
              "      <td>0</td>\n",
              "      <td>5</td>\n",
              "      <td>N</td>\n",
              "      <td>0</td>\n",
              "      <td>6</td>\n",
              "      <td>182129.0</td>\n",
              "      <td>263</td>\n",
              "      <td>93775</td>\n",
              "      <td>N</td>\n",
              "      <td>5817</td>\n",
              "      <td>102</td>\n",
              "      <td>0</td>\n",
              "      <td>1051004</td>\n",
              "    </tr>\n",
              "    <tr>\n",
              "      <th>4</th>\n",
              "      <td>6411</td>\n",
              "      <td>94435</td>\n",
              "      <td>49219</td>\n",
              "      <td>1806.49</td>\n",
              "      <td>3</td>\n",
              "      <td>62</td>\n",
              "      <td>N</td>\n",
              "      <td>4</td>\n",
              "      <td>N</td>\n",
              "      <td>N</td>\n",
              "      <td>0</td>\n",
              "      <td>5</td>\n",
              "      <td>N</td>\n",
              "      <td>0</td>\n",
              "      <td>6</td>\n",
              "      <td>172624.0</td>\n",
              "      <td>339</td>\n",
              "      <td>0</td>\n",
              "      <td>N</td>\n",
              "      <td>5865</td>\n",
              "      <td>102</td>\n",
              "      <td>0</td>\n",
              "      <td>1622153</td>\n",
              "    </tr>\n",
              "    <tr>\n",
              "      <th>...</th>\n",
              "      <td>...</td>\n",
              "      <td>...</td>\n",
              "      <td>...</td>\n",
              "      <td>...</td>\n",
              "      <td>...</td>\n",
              "      <td>...</td>\n",
              "      <td>...</td>\n",
              "      <td>...</td>\n",
              "      <td>...</td>\n",
              "      <td>...</td>\n",
              "      <td>...</td>\n",
              "      <td>...</td>\n",
              "      <td>...</td>\n",
              "      <td>...</td>\n",
              "      <td>...</td>\n",
              "      <td>...</td>\n",
              "      <td>...</td>\n",
              "      <td>...</td>\n",
              "      <td>...</td>\n",
              "      <td>...</td>\n",
              "      <td>...</td>\n",
              "      <td>...</td>\n",
              "      <td>...</td>\n",
              "    </tr>\n",
              "    <tr>\n",
              "      <th>1141335</th>\n",
              "      <td>6032</td>\n",
              "      <td>2510</td>\n",
              "      <td>54094</td>\n",
              "      <td>1.38</td>\n",
              "      <td>5</td>\n",
              "      <td>75</td>\n",
              "      <td>Y</td>\n",
              "      <td>2</td>\n",
              "      <td>NaN</td>\n",
              "      <td>NaN</td>\n",
              "      <td>0</td>\n",
              "      <td>6</td>\n",
              "      <td>N</td>\n",
              "      <td>0</td>\n",
              "      <td>30</td>\n",
              "      <td>231435.0</td>\n",
              "      <td>248</td>\n",
              "      <td>78297</td>\n",
              "      <td>N</td>\n",
              "      <td>5817</td>\n",
              "      <td>102</td>\n",
              "      <td>0</td>\n",
              "      <td>196080</td>\n",
              "    </tr>\n",
              "    <tr>\n",
              "      <th>1141336</th>\n",
              "      <td>1801</td>\n",
              "      <td>12832</td>\n",
              "      <td>137381</td>\n",
              "      <td>1138.04</td>\n",
              "      <td>5</td>\n",
              "      <td>75</td>\n",
              "      <td>Y</td>\n",
              "      <td>8</td>\n",
              "      <td>NaN</td>\n",
              "      <td>NaN</td>\n",
              "      <td>0</td>\n",
              "      <td>6</td>\n",
              "      <td>N</td>\n",
              "      <td>0</td>\n",
              "      <td>1</td>\n",
              "      <td>100009.0</td>\n",
              "      <td>201</td>\n",
              "      <td>198</td>\n",
              "      <td>N</td>\n",
              "      <td>1852</td>\n",
              "      <td>98</td>\n",
              "      <td>0</td>\n",
              "      <td>642025</td>\n",
              "    </tr>\n",
              "    <tr>\n",
              "      <th>1141337</th>\n",
              "      <td>6322</td>\n",
              "      <td>91008</td>\n",
              "      <td>15189</td>\n",
              "      <td>578.38</td>\n",
              "      <td>5</td>\n",
              "      <td>75</td>\n",
              "      <td>Y</td>\n",
              "      <td>8</td>\n",
              "      <td>NaN</td>\n",
              "      <td>NaN</td>\n",
              "      <td>0</td>\n",
              "      <td>6</td>\n",
              "      <td>N</td>\n",
              "      <td>0</td>\n",
              "      <td>4</td>\n",
              "      <td>191642.0</td>\n",
              "      <td>209</td>\n",
              "      <td>38222</td>\n",
              "      <td>N</td>\n",
              "      <td>5817</td>\n",
              "      <td>102</td>\n",
              "      <td>0</td>\n",
              "      <td>1478280</td>\n",
              "    </tr>\n",
              "    <tr>\n",
              "      <th>1141338</th>\n",
              "      <td>3226</td>\n",
              "      <td>145107</td>\n",
              "      <td>116252</td>\n",
              "      <td>435.32</td>\n",
              "      <td>5</td>\n",
              "      <td>75</td>\n",
              "      <td>Y</td>\n",
              "      <td>8</td>\n",
              "      <td>NaN</td>\n",
              "      <td>NaN</td>\n",
              "      <td>0</td>\n",
              "      <td>6</td>\n",
              "      <td>N</td>\n",
              "      <td>0</td>\n",
              "      <td>13</td>\n",
              "      <td>102338.0</td>\n",
              "      <td>192</td>\n",
              "      <td>90135</td>\n",
              "      <td>N</td>\n",
              "      <td>1458</td>\n",
              "      <td>102</td>\n",
              "      <td>0</td>\n",
              "      <td>661087</td>\n",
              "    </tr>\n",
              "    <tr>\n",
              "      <th>1141339</th>\n",
              "      <td>6769</td>\n",
              "      <td>162168</td>\n",
              "      <td>93598</td>\n",
              "      <td>1.38</td>\n",
              "      <td>5</td>\n",
              "      <td>75</td>\n",
              "      <td>Y</td>\n",
              "      <td>8</td>\n",
              "      <td>NaN</td>\n",
              "      <td>NaN</td>\n",
              "      <td>0</td>\n",
              "      <td>6</td>\n",
              "      <td>N</td>\n",
              "      <td>0</td>\n",
              "      <td>29</td>\n",
              "      <td>234618.0</td>\n",
              "      <td>373</td>\n",
              "      <td>79246</td>\n",
              "      <td>N</td>\n",
              "      <td>5817</td>\n",
              "      <td>102</td>\n",
              "      <td>0</td>\n",
              "      <td>167073</td>\n",
              "    </tr>\n",
              "  </tbody>\n",
              "</table>\n",
              "<p>1141340 rows × 23 columns</p>\n",
              "</div>"
            ],
            "text/plain": [
              "         acqic   bacno    cano    conam  ...  scity  stocn stscd    txkey\n",
              "0         6881  113261   38038   513.80  ...      0    102     0   516056\n",
              "1         6881   15408  188328   513.80  ...      0    102     0   483434\n",
              "2         6716  157159   29967  1016.11  ...   3281    102     0  1407164\n",
              "3         5975  105985   81305   713.66  ...   5817    102     0  1051004\n",
              "4         6411   94435   49219  1806.49  ...   5865    102     0  1622153\n",
              "...        ...     ...     ...      ...  ...    ...    ...   ...      ...\n",
              "1141335   6032    2510   54094     1.38  ...   5817    102     0   196080\n",
              "1141336   1801   12832  137381  1138.04  ...   1852     98     0   642025\n",
              "1141337   6322   91008   15189   578.38  ...   5817    102     0  1478280\n",
              "1141338   3226  145107  116252   435.32  ...   1458    102     0   661087\n",
              "1141339   6769  162168   93598     1.38  ...   5817    102     0   167073\n",
              "\n",
              "[1141340 rows x 23 columns]"
            ]
          },
          "metadata": {
            "tags": []
          },
          "execution_count": 133
        }
      ]
    },
    {
      "cell_type": "code",
      "metadata": {
        "colab": {
          "base_uri": "https://localhost:8080/",
          "height": 419
        },
        "id": "kRJa0FwjEO7b",
        "outputId": "4be05e47-2f15-49a6-83bc-6125e78e36d4"
      },
      "source": [
        "test"
      ],
      "execution_count": null,
      "outputs": [
        {
          "output_type": "execute_result",
          "data": {
            "text/html": [
              "<div>\n",
              "<style scoped>\n",
              "    .dataframe tbody tr th:only-of-type {\n",
              "        vertical-align: middle;\n",
              "    }\n",
              "\n",
              "    .dataframe tbody tr th {\n",
              "        vertical-align: top;\n",
              "    }\n",
              "\n",
              "    .dataframe thead th {\n",
              "        text-align: right;\n",
              "    }\n",
              "</style>\n",
              "<table border=\"1\" class=\"dataframe\">\n",
              "  <thead>\n",
              "    <tr style=\"text-align: right;\">\n",
              "      <th></th>\n",
              "      <th>acqic</th>\n",
              "      <th>bacno</th>\n",
              "      <th>cano</th>\n",
              "      <th>conam</th>\n",
              "      <th>contp</th>\n",
              "      <th>csmcu</th>\n",
              "      <th>ecfg</th>\n",
              "      <th>etymd</th>\n",
              "      <th>flbmk</th>\n",
              "      <th>flg_3dsmk</th>\n",
              "      <th>fraud_ind</th>\n",
              "      <th>hcefg</th>\n",
              "      <th>insfg</th>\n",
              "      <th>iterm</th>\n",
              "      <th>locdt</th>\n",
              "      <th>loctm</th>\n",
              "      <th>mcc</th>\n",
              "      <th>mchno</th>\n",
              "      <th>ovrlt</th>\n",
              "      <th>scity</th>\n",
              "      <th>stocn</th>\n",
              "      <th>stscd</th>\n",
              "      <th>txkey</th>\n",
              "    </tr>\n",
              "  </thead>\n",
              "  <tbody>\n",
              "    <tr>\n",
              "      <th>0</th>\n",
              "      <td>0</td>\n",
              "      <td>134508</td>\n",
              "      <td>45725</td>\n",
              "      <td>465.62</td>\n",
              "      <td>5</td>\n",
              "      <td>0</td>\n",
              "      <td>N</td>\n",
              "      <td>2</td>\n",
              "      <td>N</td>\n",
              "      <td>N</td>\n",
              "      <td>0</td>\n",
              "      <td>0</td>\n",
              "      <td>N</td>\n",
              "      <td>0</td>\n",
              "      <td>9</td>\n",
              "      <td>105114.0</td>\n",
              "      <td>451</td>\n",
              "      <td>0</td>\n",
              "      <td>N</td>\n",
              "      <td>5817</td>\n",
              "      <td>102</td>\n",
              "      <td>0</td>\n",
              "      <td>4376</td>\n",
              "    </tr>\n",
              "    <tr>\n",
              "      <th>1</th>\n",
              "      <td>0</td>\n",
              "      <td>78377</td>\n",
              "      <td>2295</td>\n",
              "      <td>465.62</td>\n",
              "      <td>5</td>\n",
              "      <td>0</td>\n",
              "      <td>N</td>\n",
              "      <td>2</td>\n",
              "      <td>N</td>\n",
              "      <td>N</td>\n",
              "      <td>0</td>\n",
              "      <td>0</td>\n",
              "      <td>N</td>\n",
              "      <td>0</td>\n",
              "      <td>6</td>\n",
              "      <td>104918.0</td>\n",
              "      <td>451</td>\n",
              "      <td>0</td>\n",
              "      <td>N</td>\n",
              "      <td>5817</td>\n",
              "      <td>102</td>\n",
              "      <td>0</td>\n",
              "      <td>2943</td>\n",
              "    </tr>\n",
              "    <tr>\n",
              "      <th>2</th>\n",
              "      <td>0</td>\n",
              "      <td>151054</td>\n",
              "      <td>197751</td>\n",
              "      <td>465.62</td>\n",
              "      <td>5</td>\n",
              "      <td>0</td>\n",
              "      <td>N</td>\n",
              "      <td>2</td>\n",
              "      <td>N</td>\n",
              "      <td>N</td>\n",
              "      <td>0</td>\n",
              "      <td>0</td>\n",
              "      <td>N</td>\n",
              "      <td>0</td>\n",
              "      <td>7</td>\n",
              "      <td>104917.0</td>\n",
              "      <td>451</td>\n",
              "      <td>0</td>\n",
              "      <td>N</td>\n",
              "      <td>5817</td>\n",
              "      <td>102</td>\n",
              "      <td>0</td>\n",
              "      <td>3387</td>\n",
              "    </tr>\n",
              "    <tr>\n",
              "      <th>3</th>\n",
              "      <td>6716</td>\n",
              "      <td>150887</td>\n",
              "      <td>4541</td>\n",
              "      <td>930.31</td>\n",
              "      <td>5</td>\n",
              "      <td>62</td>\n",
              "      <td>N</td>\n",
              "      <td>4</td>\n",
              "      <td>N</td>\n",
              "      <td>N</td>\n",
              "      <td>0</td>\n",
              "      <td>5</td>\n",
              "      <td>N</td>\n",
              "      <td>0</td>\n",
              "      <td>8</td>\n",
              "      <td>142028.0</td>\n",
              "      <td>329</td>\n",
              "      <td>37560</td>\n",
              "      <td>N</td>\n",
              "      <td>5820</td>\n",
              "      <td>102</td>\n",
              "      <td>0</td>\n",
              "      <td>1765957</td>\n",
              "    </tr>\n",
              "    <tr>\n",
              "      <th>4</th>\n",
              "      <td>6882</td>\n",
              "      <td>110356</td>\n",
              "      <td>133430</td>\n",
              "      <td>0.00</td>\n",
              "      <td>5</td>\n",
              "      <td>0</td>\n",
              "      <td>N</td>\n",
              "      <td>0</td>\n",
              "      <td>N</td>\n",
              "      <td>N</td>\n",
              "      <td>0</td>\n",
              "      <td>0</td>\n",
              "      <td>N</td>\n",
              "      <td>0</td>\n",
              "      <td>9</td>\n",
              "      <td>143657.0</td>\n",
              "      <td>459</td>\n",
              "      <td>2461</td>\n",
              "      <td>N</td>\n",
              "      <td>0</td>\n",
              "      <td>102</td>\n",
              "      <td>0</td>\n",
              "      <td>611269</td>\n",
              "    </tr>\n",
              "    <tr>\n",
              "      <th>...</th>\n",
              "      <td>...</td>\n",
              "      <td>...</td>\n",
              "      <td>...</td>\n",
              "      <td>...</td>\n",
              "      <td>...</td>\n",
              "      <td>...</td>\n",
              "      <td>...</td>\n",
              "      <td>...</td>\n",
              "      <td>...</td>\n",
              "      <td>...</td>\n",
              "      <td>...</td>\n",
              "      <td>...</td>\n",
              "      <td>...</td>\n",
              "      <td>...</td>\n",
              "      <td>...</td>\n",
              "      <td>...</td>\n",
              "      <td>...</td>\n",
              "      <td>...</td>\n",
              "      <td>...</td>\n",
              "      <td>...</td>\n",
              "      <td>...</td>\n",
              "      <td>...</td>\n",
              "      <td>...</td>\n",
              "    </tr>\n",
              "    <tr>\n",
              "      <th>380442</th>\n",
              "      <td>5588</td>\n",
              "      <td>95249</td>\n",
              "      <td>112041</td>\n",
              "      <td>1.38</td>\n",
              "      <td>5</td>\n",
              "      <td>75</td>\n",
              "      <td>Y</td>\n",
              "      <td>8</td>\n",
              "      <td>NaN</td>\n",
              "      <td>NaN</td>\n",
              "      <td>0</td>\n",
              "      <td>6</td>\n",
              "      <td>N</td>\n",
              "      <td>0</td>\n",
              "      <td>17</td>\n",
              "      <td>194234.0</td>\n",
              "      <td>296</td>\n",
              "      <td>73998</td>\n",
              "      <td>N</td>\n",
              "      <td>3426</td>\n",
              "      <td>42</td>\n",
              "      <td>0</td>\n",
              "      <td>668463</td>\n",
              "    </tr>\n",
              "    <tr>\n",
              "      <th>380443</th>\n",
              "      <td>6215</td>\n",
              "      <td>85771</td>\n",
              "      <td>169553</td>\n",
              "      <td>609.21</td>\n",
              "      <td>5</td>\n",
              "      <td>75</td>\n",
              "      <td>Y</td>\n",
              "      <td>2</td>\n",
              "      <td>NaN</td>\n",
              "      <td>NaN</td>\n",
              "      <td>0</td>\n",
              "      <td>6</td>\n",
              "      <td>N</td>\n",
              "      <td>0</td>\n",
              "      <td>14</td>\n",
              "      <td>133907.0</td>\n",
              "      <td>289</td>\n",
              "      <td>54828</td>\n",
              "      <td>N</td>\n",
              "      <td>3460</td>\n",
              "      <td>46</td>\n",
              "      <td>0</td>\n",
              "      <td>1846986</td>\n",
              "    </tr>\n",
              "    <tr>\n",
              "      <th>380444</th>\n",
              "      <td>6231</td>\n",
              "      <td>139728</td>\n",
              "      <td>168027</td>\n",
              "      <td>574.36</td>\n",
              "      <td>5</td>\n",
              "      <td>75</td>\n",
              "      <td>N</td>\n",
              "      <td>5</td>\n",
              "      <td>NaN</td>\n",
              "      <td>NaN</td>\n",
              "      <td>0</td>\n",
              "      <td>6</td>\n",
              "      <td>N</td>\n",
              "      <td>0</td>\n",
              "      <td>28</td>\n",
              "      <td>155437.0</td>\n",
              "      <td>245</td>\n",
              "      <td>18405</td>\n",
              "      <td>N</td>\n",
              "      <td>5817</td>\n",
              "      <td>102</td>\n",
              "      <td>0</td>\n",
              "      <td>992751</td>\n",
              "    </tr>\n",
              "    <tr>\n",
              "      <th>380445</th>\n",
              "      <td>6032</td>\n",
              "      <td>45406</td>\n",
              "      <td>197460</td>\n",
              "      <td>1.38</td>\n",
              "      <td>5</td>\n",
              "      <td>75</td>\n",
              "      <td>Y</td>\n",
              "      <td>2</td>\n",
              "      <td>NaN</td>\n",
              "      <td>NaN</td>\n",
              "      <td>0</td>\n",
              "      <td>6</td>\n",
              "      <td>N</td>\n",
              "      <td>0</td>\n",
              "      <td>24</td>\n",
              "      <td>215218.0</td>\n",
              "      <td>373</td>\n",
              "      <td>79246</td>\n",
              "      <td>N</td>\n",
              "      <td>5817</td>\n",
              "      <td>102</td>\n",
              "      <td>0</td>\n",
              "      <td>338215</td>\n",
              "    </tr>\n",
              "    <tr>\n",
              "      <th>380446</th>\n",
              "      <td>6716</td>\n",
              "      <td>48723</td>\n",
              "      <td>176440</td>\n",
              "      <td>406.59</td>\n",
              "      <td>5</td>\n",
              "      <td>75</td>\n",
              "      <td>N</td>\n",
              "      <td>5</td>\n",
              "      <td>NaN</td>\n",
              "      <td>NaN</td>\n",
              "      <td>0</td>\n",
              "      <td>6</td>\n",
              "      <td>N</td>\n",
              "      <td>0</td>\n",
              "      <td>13</td>\n",
              "      <td>163603.0</td>\n",
              "      <td>251</td>\n",
              "      <td>69607</td>\n",
              "      <td>N</td>\n",
              "      <td>2310</td>\n",
              "      <td>102</td>\n",
              "      <td>0</td>\n",
              "      <td>1055258</td>\n",
              "    </tr>\n",
              "  </tbody>\n",
              "</table>\n",
              "<p>380447 rows × 23 columns</p>\n",
              "</div>"
            ],
            "text/plain": [
              "        acqic   bacno    cano   conam  ...  scity  stocn stscd    txkey\n",
              "0           0  134508   45725  465.62  ...   5817    102     0     4376\n",
              "1           0   78377    2295  465.62  ...   5817    102     0     2943\n",
              "2           0  151054  197751  465.62  ...   5817    102     0     3387\n",
              "3        6716  150887    4541  930.31  ...   5820    102     0  1765957\n",
              "4        6882  110356  133430    0.00  ...      0    102     0   611269\n",
              "...       ...     ...     ...     ...  ...    ...    ...   ...      ...\n",
              "380442   5588   95249  112041    1.38  ...   3426     42     0   668463\n",
              "380443   6215   85771  169553  609.21  ...   3460     46     0  1846986\n",
              "380444   6231  139728  168027  574.36  ...   5817    102     0   992751\n",
              "380445   6032   45406  197460    1.38  ...   5817    102     0   338215\n",
              "380446   6716   48723  176440  406.59  ...   2310    102     0  1055258\n",
              "\n",
              "[380447 rows x 23 columns]"
            ]
          },
          "metadata": {
            "tags": []
          },
          "execution_count": 127
        }
      ]
    },
    {
      "cell_type": "code",
      "metadata": {
        "colab": {
          "base_uri": "https://localhost:8080/"
        },
        "id": "S-dFH1L1Efq0",
        "outputId": "a643de55-9c71-45be-da44-d98f2fcd91c6"
      },
      "source": [
        "frauds = train['fraud_ind']\n",
        "cnt = 0\n",
        "for val in frauds:\n",
        "  if val == 1: cnt += 1\n",
        "print(cnt)\n",
        "\n",
        "frauds = test['fraud_ind']\n",
        "cnt = 0\n",
        "for val in frauds:\n",
        "  if val == 1: cnt += 1\n",
        "print(cnt)"
      ],
      "execution_count": null,
      "outputs": [
        {
          "output_type": "stream",
          "text": [
            "15283\n",
            "5072\n"
          ],
          "name": "stdout"
        }
      ]
    },
    {
      "cell_type": "code",
      "metadata": {
        "id": "9tAeyJnpVkI_"
      },
      "source": [
        ""
      ],
      "execution_count": null,
      "outputs": []
    },
    {
      "cell_type": "markdown",
      "metadata": {
        "id": "rgWH0VYaVhqB"
      },
      "source": [
        "##### **visuals start here**"
      ]
    },
    {
      "cell_type": "code",
      "metadata": {
        "id": "dL6ZhFWcVetx"
      },
      "source": [
        "# plot all four from here\n",
        "%matplotlib inline\n",
        "import seaborn as sns\n",
        "import matplotlib.pyplot as plt\n",
        "\n",
        "key = 'scity'  # plot which lable\n",
        "start = 0\n",
        "max_show = 10  # show at most categories\n"
      ],
      "execution_count": null,
      "outputs": []
    },
    {
      "cell_type": "code",
      "metadata": {
        "colab": {
          "base_uri": "https://localhost:8080/",
          "height": 312
        },
        "id": "OtVYrfYhQizS",
        "outputId": "7ba875a3-5795-429e-ed77-19c18c3d1e98"
      },
      "source": [
        "x = sns.countplot(x=key, hue=\"fraud_ind\", data=test[test.fraud_ind==1], palette=\"Reds_d\",\n",
        "              order=pd.value_counts(test[test.fraud_ind==1][key]).iloc[start:start+max_show].index)\n",
        "x.set_title(f'test (DO NOT USE) fraudulent cases by {key}')"
      ],
      "execution_count": null,
      "outputs": [
        {
          "output_type": "execute_result",
          "data": {
            "text/plain": [
              "Text(0.5, 1.0, 'test (DO NOT USE) fraudulent cases by scity')"
            ]
          },
          "metadata": {
            "tags": []
          },
          "execution_count": 6
        },
        {
          "output_type": "display_data",
          "data": {
            "image/png": "[encoded data removed]",
            "text/plain": [
              "<Figure size 432x288 with 1 Axes>"
            ]
          },
          "metadata": {
            "tags": [],
            "needs_background": "light"
          }
        }
      ]
    },
    {
      "cell_type": "code",
      "metadata": {
        "colab": {
          "base_uri": "https://localhost:8080/",
          "height": 312
        },
        "id": "7LdnXvhNUdoZ",
        "outputId": "5fed6fba-25cb-497a-f15b-7f1e2c0e3d0d"
      },
      "source": [
        "x = sns.countplot(x=key, hue=\"fraud_ind\", data=test[test.fraud_ind==0], palette=\"Oranges_d\",\n",
        "              order=pd.value_counts(test[test.fraud_ind==0][key]).iloc[start:start+max_show].index)\n",
        "x.set_title(f'test (DO NOT USE) normal cases by {key}')"
      ],
      "execution_count": null,
      "outputs": [
        {
          "output_type": "execute_result",
          "data": {
            "text/plain": [
              "Text(0.5, 1.0, 'test (DO NOT USE) normal cases by scity')"
            ]
          },
          "metadata": {
            "tags": []
          },
          "execution_count": 7
        },
        {
          "output_type": "display_data",
          "data": {
            "image/png": "[encoded data removed]",
            "text/plain": [
              "<Figure size 432x288 with 1 Axes>"
            ]
          },
          "metadata": {
            "tags": [],
            "needs_background": "light"
          }
        }
      ]
    },
    {
      "cell_type": "code",
      "metadata": {
        "colab": {
          "base_uri": "https://localhost:8080/",
          "height": 312
        },
        "id": "aE2f4reugR3-",
        "outputId": "3b3b5e2a-a0de-48da-88eb-318dd18331ce"
      },
      "source": [
        "x = sns.countplot(x=key, hue=\"fraud_ind\", data=train[train.fraud_ind==1], palette=\"Greens_d\",\n",
        "              order=pd.value_counts(train[train.fraud_ind==1][key]).iloc[start:start+max_show].index)\n",
        "\n",
        "# print(pd.value_counts(train[train.fraud_ind==1][key]).iloc[start:start+max_show].index)\n",
        "x.set_title(f'train fraudulent cases by {key}')\n",
        "## 102為國內消費"
      ],
      "execution_count": null,
      "outputs": [
        {
          "output_type": "execute_result",
          "data": {
            "text/plain": [
              "Text(0.5, 1.0, 'train fraudulent cases by scity')"
            ]
          },
          "metadata": {
            "tags": []
          },
          "execution_count": 8
        },
        {
          "output_type": "display_data",
          "data": {
            "image/png": "[encoded data removed]",
            "text/plain": [
              "<Figure size 432x288 with 1 Axes>"
            ]
          },
          "metadata": {
            "tags": [],
            "needs_background": "light"
          }
        }
      ]
    },
    {
      "cell_type": "code",
      "metadata": {
        "colab": {
          "base_uri": "https://localhost:8080/",
          "height": 312
        },
        "id": "6SDz6dLGUuPS",
        "outputId": "7291785b-7d79-4c96-8a69-e173e547a8e0"
      },
      "source": [
        "x = sns.countplot(x=key, hue=\"fraud_ind\", data=train[train.fraud_ind==0], palette=\"Blues_d\",\n",
        "              order=pd.value_counts(train[train.fraud_ind==0][key]).iloc[start:start+max_show].index)\n",
        "\n",
        "x.set_title(f'train normal cases by {key}')"
      ],
      "execution_count": null,
      "outputs": [
        {
          "output_type": "execute_result",
          "data": {
            "text/plain": [
              "Text(0.5, 1.0, 'train normal cases by scity')"
            ]
          },
          "metadata": {
            "tags": []
          },
          "execution_count": 9
        },
        {
          "output_type": "display_data",
          "data": {
            "image/png": "[encoded data removed]",
            "text/plain": [
              "<Figure size 432x288 with 1 Axes>"
            ]
          },
          "metadata": {
            "tags": [],
            "needs_background": "light"
          }
        }
      ]
    },
    {
      "cell_type": "markdown",
      "metadata": {
        "id": "b5UQfEBrWg4h"
      },
      "source": [
        "##### **end visuals**"
      ]
    },
    {
      "cell_type": "code",
      "metadata": {
        "id": "ukAuFyMwmoJF"
      },
      "source": [
        "train[\"oversea_flag\"] = train.stocn != 102"
      ],
      "execution_count": null,
      "outputs": []
    },
    {
      "cell_type": "code",
      "metadata": {
        "colab": {
          "base_uri": "https://localhost:8080/"
        },
        "id": "7So4ACNim7_c",
        "outputId": "1d0e09be-67a2-47bb-8811-be22cd40e923"
      },
      "source": [
        "# change to percentage 0 代表為國內\n",
        "oversea_pct = train.loc[:,['cano','oversea_flag']][train.fraud_ind!=-1].groupby('cano').mean()\n",
        "print(oversea_pct)"
      ],
      "execution_count": null,
      "outputs": [
        {
          "output_type": "stream",
          "text": [
            "        oversea_flag\n",
            "cano                \n",
            "0                0.0\n",
            "1                0.0\n",
            "2                0.0\n",
            "3                0.0\n",
            "5                0.0\n",
            "...              ...\n",
            "213309           0.0\n",
            "213317           0.0\n",
            "213321           0.0\n",
            "213329           1.0\n",
            "213334           0.0\n",
            "\n",
            "[124310 rows x 1 columns]\n"
          ],
          "name": "stdout"
        }
      ]
    },
    {
      "cell_type": "code",
      "metadata": {
        "colab": {
          "base_uri": "https://localhost:8080/",
          "height": 279
        },
        "id": "lP_3fX6xpu6z",
        "outputId": "730c3405-70ee-478e-9c8a-78e8e5d45231"
      },
      "source": [
        "# clustering by k-means with elbow method\n",
        "from sklearn.cluster import KMeans\n",
        "\n",
        "sse = {}\n",
        "\n",
        "for k in range(1, 10):\n",
        "    kmeans = KMeans(n_clusters=k, max_iter=1000).fit(oversea_pct)\n",
        "#   oversea_pct[\"clusters\"] = kmeans.labels_\n",
        "#   print(oversea_pct[\"clusters\"])\n",
        "    sse[k] = kmeans.inertia_ # Inertia: Sum of distances of samples to their closest cluster center\n",
        "\n",
        "plt.figure()\n",
        "plt.plot(list(sse.keys()), list(sse.values()))\n",
        "plt.xlabel(\"Number of cluster\")\n",
        "plt.ylabel(\"SSE\")\n",
        "plt.show()"
      ],
      "execution_count": null,
      "outputs": [
        {
          "output_type": "display_data",
          "data": {
            "image/png": "[encoded data removed]",
            "text/plain": [
              "<Figure size 432x288 with 1 Axes>"
            ]
          },
          "metadata": {
            "tags": [],
            "needs_background": "light"
          }
        }
      ]
    },
    {
      "cell_type": "markdown",
      "metadata": {
        "id": "LTLmBIG93hf2"
      },
      "source": [
        "### **是否網路消費**"
      ]
    },
    {
      "cell_type": "code",
      "metadata": {
        "colab": {
          "base_uri": "https://localhost:8080/",
          "height": 700
        },
        "id": "d3sy7xXmsaS6",
        "outputId": "b307aafa-11d1-4064-9806-0cd1f0cc3f2a"
      },
      "source": [
        "# k = 2 \n",
        "# cano：卡號 / ecfg：網路交易註記\n",
        "kmeans = KMeans(n_clusters=2, max_iter=1000).fit(oversea_pct)\n",
        "oversea_pct[\"clusters\"] = kmeans.labels_\n",
        "oversea_pct.head(20)"
      ],
      "execution_count": null,
      "outputs": [
        {
          "output_type": "execute_result",
          "data": {
            "text/html": [
              "<div>\n",
              "<style scoped>\n",
              "    .dataframe tbody tr th:only-of-type {\n",
              "        vertical-align: middle;\n",
              "    }\n",
              "\n",
              "    .dataframe tbody tr th {\n",
              "        vertical-align: top;\n",
              "    }\n",
              "\n",
              "    .dataframe thead th {\n",
              "        text-align: right;\n",
              "    }\n",
              "</style>\n",
              "<table border=\"1\" class=\"dataframe\">\n",
              "  <thead>\n",
              "    <tr style=\"text-align: right;\">\n",
              "      <th></th>\n",
              "      <th>oversea_flag</th>\n",
              "      <th>clusters</th>\n",
              "    </tr>\n",
              "    <tr>\n",
              "      <th>cano</th>\n",
              "      <th></th>\n",
              "      <th></th>\n",
              "    </tr>\n",
              "  </thead>\n",
              "  <tbody>\n",
              "    <tr>\n",
              "      <th>0</th>\n",
              "      <td>0.000000</td>\n",
              "      <td>1</td>\n",
              "    </tr>\n",
              "    <tr>\n",
              "      <th>1</th>\n",
              "      <td>0.000000</td>\n",
              "      <td>1</td>\n",
              "    </tr>\n",
              "    <tr>\n",
              "      <th>2</th>\n",
              "      <td>0.000000</td>\n",
              "      <td>1</td>\n",
              "    </tr>\n",
              "    <tr>\n",
              "      <th>3</th>\n",
              "      <td>0.000000</td>\n",
              "      <td>1</td>\n",
              "    </tr>\n",
              "    <tr>\n",
              "      <th>5</th>\n",
              "      <td>0.000000</td>\n",
              "      <td>1</td>\n",
              "    </tr>\n",
              "    <tr>\n",
              "      <th>7</th>\n",
              "      <td>0.000000</td>\n",
              "      <td>1</td>\n",
              "    </tr>\n",
              "    <tr>\n",
              "      <th>8</th>\n",
              "      <td>0.181818</td>\n",
              "      <td>1</td>\n",
              "    </tr>\n",
              "    <tr>\n",
              "      <th>9</th>\n",
              "      <td>0.000000</td>\n",
              "      <td>1</td>\n",
              "    </tr>\n",
              "    <tr>\n",
              "      <th>10</th>\n",
              "      <td>0.000000</td>\n",
              "      <td>1</td>\n",
              "    </tr>\n",
              "    <tr>\n",
              "      <th>11</th>\n",
              "      <td>0.000000</td>\n",
              "      <td>1</td>\n",
              "    </tr>\n",
              "    <tr>\n",
              "      <th>14</th>\n",
              "      <td>0.000000</td>\n",
              "      <td>1</td>\n",
              "    </tr>\n",
              "    <tr>\n",
              "      <th>17</th>\n",
              "      <td>0.750000</td>\n",
              "      <td>0</td>\n",
              "    </tr>\n",
              "    <tr>\n",
              "      <th>19</th>\n",
              "      <td>0.000000</td>\n",
              "      <td>1</td>\n",
              "    </tr>\n",
              "    <tr>\n",
              "      <th>20</th>\n",
              "      <td>0.000000</td>\n",
              "      <td>1</td>\n",
              "    </tr>\n",
              "    <tr>\n",
              "      <th>21</th>\n",
              "      <td>0.000000</td>\n",
              "      <td>1</td>\n",
              "    </tr>\n",
              "    <tr>\n",
              "      <th>22</th>\n",
              "      <td>0.000000</td>\n",
              "      <td>1</td>\n",
              "    </tr>\n",
              "    <tr>\n",
              "      <th>23</th>\n",
              "      <td>0.500000</td>\n",
              "      <td>0</td>\n",
              "    </tr>\n",
              "    <tr>\n",
              "      <th>24</th>\n",
              "      <td>0.000000</td>\n",
              "      <td>1</td>\n",
              "    </tr>\n",
              "    <tr>\n",
              "      <th>25</th>\n",
              "      <td>0.000000</td>\n",
              "      <td>1</td>\n",
              "    </tr>\n",
              "    <tr>\n",
              "      <th>27</th>\n",
              "      <td>1.000000</td>\n",
              "      <td>0</td>\n",
              "    </tr>\n",
              "  </tbody>\n",
              "</table>\n",
              "</div>"
            ],
            "text/plain": [
              "      oversea_flag  clusters\n",
              "cano                        \n",
              "0         0.000000         1\n",
              "1         0.000000         1\n",
              "2         0.000000         1\n",
              "3         0.000000         1\n",
              "5         0.000000         1\n",
              "7         0.000000         1\n",
              "8         0.181818         1\n",
              "9         0.000000         1\n",
              "10        0.000000         1\n",
              "11        0.000000         1\n",
              "14        0.000000         1\n",
              "17        0.750000         0\n",
              "19        0.000000         1\n",
              "20        0.000000         1\n",
              "21        0.000000         1\n",
              "22        0.000000         1\n",
              "23        0.500000         0\n",
              "24        0.000000         1\n",
              "25        0.000000         1\n",
              "27        1.000000         0"
            ]
          },
          "metadata": {
            "tags": []
          },
          "execution_count": 65
        }
      ]
    },
    {
      "cell_type": "code",
      "metadata": {
        "colab": {
          "base_uri": "https://localhost:8080/"
        },
        "id": "BFLr1Z_9vrGh",
        "outputId": "a2fff336-a6a0-4122-e61d-105fd01f9865"
      },
      "source": [
        "# change to percentage\n",
        "# cano：卡號 / ecfg：網路交易註記\n",
        "ecfg_pct = train.loc[:,['cano','ecfg']][train.fraud_ind!=-1].groupby('cano').mean()\n",
        "print(ecfg_pct)"
      ],
      "execution_count": null,
      "outputs": [
        {
          "output_type": "stream",
          "text": [
            "            ecfg\n",
            "cano            \n",
            "0       0.000000\n",
            "1       0.000000\n",
            "2       0.074074\n",
            "3       0.000000\n",
            "5       0.111111\n",
            "...          ...\n",
            "213309  0.000000\n",
            "213317  0.000000\n",
            "213321  0.000000\n",
            "213329  1.000000\n",
            "213334  0.000000\n",
            "\n",
            "[124310 rows x 1 columns]\n"
          ],
          "name": "stdout"
        }
      ]
    },
    {
      "cell_type": "code",
      "metadata": {
        "colab": {
          "base_uri": "https://localhost:8080/",
          "height": 279
        },
        "id": "3PyLQvXYvz2Q",
        "outputId": "7359bbda-f283-4f45-db4f-f874b04289e2"
      },
      "source": [
        "# clustering by k-means with elbow method\n",
        "from sklearn.cluster import KMeans\n",
        "\n",
        "sse = {}\n",
        "\n",
        "for k in range(1, 10):\n",
        "    kmeans = KMeans(n_clusters=k, max_iter=1000).fit(ecfg_pct)\n",
        "#   oversea_pct[\"clusters\"] = kmeans.labels_\n",
        "#   print(oversea_pct[\"clusters\"])\n",
        "    sse[k] = kmeans.inertia_ # Inertia: Sum of distances of samples to their closest cluster center\n",
        "\n",
        "plt.figure()\n",
        "plt.plot(list(sse.keys()), list(sse.values()))\n",
        "plt.xlabel(\"Number of cluster\")\n",
        "plt.ylabel(\"SSE\")\n",
        "plt.show()"
      ],
      "execution_count": null,
      "outputs": [
        {
          "output_type": "display_data",
          "data": {
            "image/png": "[encoded data removed]",
            "text/plain": [
              "<Figure size 432x288 with 1 Axes>"
            ]
          },
          "metadata": {
            "tags": [],
            "needs_background": "light"
          }
        }
      ]
    },
    {
      "cell_type": "code",
      "metadata": {
        "id": "Utnm8-uux_qj"
      },
      "source": [
        "# k = 2 \n",
        "kmeans = KMeans(n_clusters=2, max_iter=1000).fit(ecfg_pct)\n",
        "ecfg_pct[\"clusters\"] = kmeans.labels_\n",
        "# ecfg_pct.head(20)"
      ],
      "execution_count": null,
      "outputs": []
    },
    {
      "cell_type": "markdown",
      "metadata": {
        "id": "Sn7SN2Su1Zfv"
      },
      "source": [
        "### **MCC**"
      ]
    },
    {
      "cell_type": "markdown",
      "metadata": {
        "id": "js2SXFEp7ZAl"
      },
      "source": [
        "#### MCC消費種類分群 [(連結)](https://zh.wikipedia.org/wiki/商户类别代码)\n",
        "\n",
        "---\n",
        "由於一個商戶類別是由好幾種MCC CODE組成  \n",
        "假定同一種商戶類別，底下各自的MCC CODE資料有相似的敘述統計量\n"
      ]
    },
    {
      "cell_type": "code",
      "metadata": {
        "colab": {
          "base_uri": "https://localhost:8080/",
          "height": 481
        },
        "id": "YDGDSx9M0bpR",
        "outputId": "67f324ab-6729-4d7a-eebb-a1632e56a219"
      },
      "source": [
        "# conam - 交易金額(台幣)\n",
        "mcc_code = train.loc[:,['mcc', 'conam']].groupby(['mcc']).describe() \n",
        "mcc_code"
      ],
      "execution_count": null,
      "outputs": [
        {
          "output_type": "execute_result",
          "data": {
            "text/html": [
              "<div>\n",
              "<style scoped>\n",
              "    .dataframe tbody tr th:only-of-type {\n",
              "        vertical-align: middle;\n",
              "    }\n",
              "\n",
              "    .dataframe tbody tr th {\n",
              "        vertical-align: top;\n",
              "    }\n",
              "\n",
              "    .dataframe thead tr th {\n",
              "        text-align: left;\n",
              "    }\n",
              "\n",
              "    .dataframe thead tr:last-of-type th {\n",
              "        text-align: right;\n",
              "    }\n",
              "</style>\n",
              "<table border=\"1\" class=\"dataframe\">\n",
              "  <thead>\n",
              "    <tr>\n",
              "      <th></th>\n",
              "      <th colspan=\"8\" halign=\"left\">conam</th>\n",
              "    </tr>\n",
              "    <tr>\n",
              "      <th></th>\n",
              "      <th>count</th>\n",
              "      <th>mean</th>\n",
              "      <th>std</th>\n",
              "      <th>min</th>\n",
              "      <th>25%</th>\n",
              "      <th>50%</th>\n",
              "      <th>75%</th>\n",
              "      <th>max</th>\n",
              "    </tr>\n",
              "    <tr>\n",
              "      <th>mcc</th>\n",
              "      <th></th>\n",
              "      <th></th>\n",
              "      <th></th>\n",
              "      <th></th>\n",
              "      <th></th>\n",
              "      <th></th>\n",
              "      <th></th>\n",
              "      <th></th>\n",
              "    </tr>\n",
              "  </thead>\n",
              "  <tbody>\n",
              "    <tr>\n",
              "      <th>0</th>\n",
              "      <td>3.0</td>\n",
              "      <td>1923.273333</td>\n",
              "      <td>330.105003</td>\n",
              "      <td>1699.87</td>\n",
              "      <td>1733.6900</td>\n",
              "      <td>1767.51</td>\n",
              "      <td>2034.975</td>\n",
              "      <td>2302.44</td>\n",
              "    </tr>\n",
              "    <tr>\n",
              "      <th>1</th>\n",
              "      <td>1.0</td>\n",
              "      <td>1063.150000</td>\n",
              "      <td>NaN</td>\n",
              "      <td>1063.15</td>\n",
              "      <td>1063.1500</td>\n",
              "      <td>1063.15</td>\n",
              "      <td>1063.150</td>\n",
              "      <td>1063.15</td>\n",
              "    </tr>\n",
              "    <tr>\n",
              "      <th>2</th>\n",
              "      <td>54.0</td>\n",
              "      <td>989.153889</td>\n",
              "      <td>338.899635</td>\n",
              "      <td>368.62</td>\n",
              "      <td>724.1325</td>\n",
              "      <td>966.45</td>\n",
              "      <td>1193.295</td>\n",
              "      <td>2168.49</td>\n",
              "    </tr>\n",
              "    <tr>\n",
              "      <th>3</th>\n",
              "      <td>79.0</td>\n",
              "      <td>565.248354</td>\n",
              "      <td>272.055275</td>\n",
              "      <td>140.93</td>\n",
              "      <td>358.0150</td>\n",
              "      <td>490.68</td>\n",
              "      <td>744.255</td>\n",
              "      <td>1342.53</td>\n",
              "    </tr>\n",
              "    <tr>\n",
              "      <th>4</th>\n",
              "      <td>1.0</td>\n",
              "      <td>731.820000</td>\n",
              "      <td>NaN</td>\n",
              "      <td>731.82</td>\n",
              "      <td>731.8200</td>\n",
              "      <td>731.82</td>\n",
              "      <td>731.820</td>\n",
              "      <td>731.82</td>\n",
              "    </tr>\n",
              "    <tr>\n",
              "      <th>...</th>\n",
              "      <td>...</td>\n",
              "      <td>...</td>\n",
              "      <td>...</td>\n",
              "      <td>...</td>\n",
              "      <td>...</td>\n",
              "      <td>...</td>\n",
              "      <td>...</td>\n",
              "      <td>...</td>\n",
              "    </tr>\n",
              "    <tr>\n",
              "      <th>455</th>\n",
              "      <td>2.0</td>\n",
              "      <td>0.000000</td>\n",
              "      <td>0.000000</td>\n",
              "      <td>0.00</td>\n",
              "      <td>0.0000</td>\n",
              "      <td>0.00</td>\n",
              "      <td>0.000</td>\n",
              "      <td>0.00</td>\n",
              "    </tr>\n",
              "    <tr>\n",
              "      <th>456</th>\n",
              "      <td>13.0</td>\n",
              "      <td>592.389231</td>\n",
              "      <td>139.878903</td>\n",
              "      <td>401.39</td>\n",
              "      <td>460.3400</td>\n",
              "      <td>602.53</td>\n",
              "      <td>680.570</td>\n",
              "      <td>860.07</td>\n",
              "    </tr>\n",
              "    <tr>\n",
              "      <th>457</th>\n",
              "      <td>77429.0</td>\n",
              "      <td>521.192606</td>\n",
              "      <td>34.612743</td>\n",
              "      <td>513.80</td>\n",
              "      <td>513.8000</td>\n",
              "      <td>513.80</td>\n",
              "      <td>513.800</td>\n",
              "      <td>683.25</td>\n",
              "    </tr>\n",
              "    <tr>\n",
              "      <th>458</th>\n",
              "      <td>694.0</td>\n",
              "      <td>0.000000</td>\n",
              "      <td>0.000000</td>\n",
              "      <td>0.00</td>\n",
              "      <td>0.0000</td>\n",
              "      <td>0.00</td>\n",
              "      <td>0.000</td>\n",
              "      <td>0.00</td>\n",
              "    </tr>\n",
              "    <tr>\n",
              "      <th>459</th>\n",
              "      <td>3625.0</td>\n",
              "      <td>0.000000</td>\n",
              "      <td>0.000000</td>\n",
              "      <td>0.00</td>\n",
              "      <td>0.0000</td>\n",
              "      <td>0.00</td>\n",
              "      <td>0.000</td>\n",
              "      <td>0.00</td>\n",
              "    </tr>\n",
              "  </tbody>\n",
              "</table>\n",
              "<p>418 rows × 8 columns</p>\n",
              "</div>"
            ],
            "text/plain": [
              "       conam                           ...                            \n",
              "       count         mean         std  ...      50%       75%      max\n",
              "mcc                                    ...                            \n",
              "0        3.0  1923.273333  330.105003  ...  1767.51  2034.975  2302.44\n",
              "1        1.0  1063.150000         NaN  ...  1063.15  1063.150  1063.15\n",
              "2       54.0   989.153889  338.899635  ...   966.45  1193.295  2168.49\n",
              "3       79.0   565.248354  272.055275  ...   490.68   744.255  1342.53\n",
              "4        1.0   731.820000         NaN  ...   731.82   731.820   731.82\n",
              "..       ...          ...         ...  ...      ...       ...      ...\n",
              "455      2.0     0.000000    0.000000  ...     0.00     0.000     0.00\n",
              "456     13.0   592.389231  139.878903  ...   602.53   680.570   860.07\n",
              "457  77429.0   521.192606   34.612743  ...   513.80   513.800   683.25\n",
              "458    694.0     0.000000    0.000000  ...     0.00     0.000     0.00\n",
              "459   3625.0     0.000000    0.000000  ...     0.00     0.000     0.00\n",
              "\n",
              "[418 rows x 8 columns]"
            ]
          },
          "metadata": {
            "tags": []
          },
          "execution_count": 95
        }
      ]
    },
    {
      "cell_type": "code",
      "metadata": {
        "colab": {
          "base_uri": "https://localhost:8080/"
        },
        "id": "gpx7Ou291gk2",
        "outputId": "743e07a9-5f11-496e-d045-1f0295369f9e"
      },
      "source": [
        "mcc_code.columns"
      ],
      "execution_count": null,
      "outputs": [
        {
          "output_type": "execute_result",
          "data": {
            "text/plain": [
              "MultiIndex([('conam', 'count'),\n",
              "            ('conam',  'mean'),\n",
              "            ('conam',   'std'),\n",
              "            ('conam',   'min'),\n",
              "            ('conam',   '25%'),\n",
              "            ('conam',   '50%'),\n",
              "            ('conam',   '75%'),\n",
              "            ('conam',   'max')],\n",
              "           )"
            ]
          },
          "metadata": {
            "tags": []
          },
          "execution_count": 74
        }
      ]
    },
    {
      "cell_type": "code",
      "metadata": {
        "id": "_hggqusj1jwP"
      },
      "source": [
        "mcc_code.columns = mcc_code.columns.droplevel()"
      ],
      "execution_count": null,
      "outputs": []
    },
    {
      "cell_type": "code",
      "metadata": {
        "id": "-xPtj0W41n8n"
      },
      "source": [
        "mcc_code.fillna(0, inplace=True)"
      ],
      "execution_count": null,
      "outputs": []
    },
    {
      "cell_type": "code",
      "metadata": {
        "colab": {
          "base_uri": "https://localhost:8080/",
          "height": 290
        },
        "id": "9B0_wql61veu",
        "outputId": "026a9424-2bf4-4d59-8851-97017eaa28d5"
      },
      "source": [
        "# clustering by k-means with elbow method\n",
        "from sklearn.cluster import KMeans\n",
        "\n",
        "sse = {}\n",
        "\n",
        "for k in range(1, 10):\n",
        "    kmeans = KMeans(n_clusters=k, max_iter=1000).fit(mcc_code)\n",
        "#   oversea_pct[\"clusters\"] = kmeans.labels_\n",
        "#   print(oversea_pct[\"clusters\"])\n",
        "    sse[k] = kmeans.inertia_ # Inertia: Sum of distances of samples to their closest cluster center\n",
        "\n",
        "plt.figure()\n",
        "plt.plot(list(sse.keys()), list(sse.values()))\n",
        "plt.xlabel(\"Number of cluster\")\n",
        "plt.ylabel(\"SSE\")\n",
        "plt.show()"
      ],
      "execution_count": null,
      "outputs": [
        {
          "output_type": "display_data",
          "data": {
            "image/png": "[encoded data removed]",
            "text/plain": [
              "<Figure size 432x288 with 1 Axes>"
            ]
          },
          "metadata": {
            "tags": [],
            "needs_background": "light"
          }
        }
      ]
    },
    {
      "cell_type": "markdown",
      "metadata": {
        "id": "zd9uZjuw7kXd"
      },
      "source": [
        "#### 各卡MCC消費占比"
      ]
    },
    {
      "cell_type": "code",
      "metadata": {
        "id": "_-akTGpD2WWW"
      },
      "source": [
        "# count mcc\n",
        "mcc_txn_cnt = train.loc[:,['cano', 'mcc', 'conam']][train.fraud_ind!=-1].groupby(['cano','mcc']).count()\n",
        "mcc_cnt = train.loc[:,['cano','mcc', 'conam']][train.fraud_ind!=-1].groupby(['cano','mcc']).count().groupby(['cano']).count()"
      ],
      "execution_count": null,
      "outputs": []
    },
    {
      "cell_type": "code",
      "metadata": {
        "colab": {
          "base_uri": "https://localhost:8080/",
          "height": 235
        },
        "id": "yQD-TYBP2eqW",
        "outputId": "7d3c2ca6-28e5-4f1e-a3f3-4c7fc11597a1"
      },
      "source": [
        "mcc_txn_cnt.groupby(['cano']).mean().head(5)"
      ],
      "execution_count": null,
      "outputs": [
        {
          "output_type": "execute_result",
          "data": {
            "text/html": [
              "<div>\n",
              "<style scoped>\n",
              "    .dataframe tbody tr th:only-of-type {\n",
              "        vertical-align: middle;\n",
              "    }\n",
              "\n",
              "    .dataframe tbody tr th {\n",
              "        vertical-align: top;\n",
              "    }\n",
              "\n",
              "    .dataframe thead th {\n",
              "        text-align: right;\n",
              "    }\n",
              "</style>\n",
              "<table border=\"1\" class=\"dataframe\">\n",
              "  <thead>\n",
              "    <tr style=\"text-align: right;\">\n",
              "      <th></th>\n",
              "      <th>conam</th>\n",
              "    </tr>\n",
              "    <tr>\n",
              "      <th>cano</th>\n",
              "      <th></th>\n",
              "    </tr>\n",
              "  </thead>\n",
              "  <tbody>\n",
              "    <tr>\n",
              "      <th>0</th>\n",
              "      <td>2.000000</td>\n",
              "    </tr>\n",
              "    <tr>\n",
              "      <th>1</th>\n",
              "      <td>1.000000</td>\n",
              "    </tr>\n",
              "    <tr>\n",
              "      <th>2</th>\n",
              "      <td>6.750000</td>\n",
              "    </tr>\n",
              "    <tr>\n",
              "      <th>3</th>\n",
              "      <td>1.000000</td>\n",
              "    </tr>\n",
              "    <tr>\n",
              "      <th>5</th>\n",
              "      <td>2.571429</td>\n",
              "    </tr>\n",
              "  </tbody>\n",
              "</table>\n",
              "</div>"
            ],
            "text/plain": [
              "         conam\n",
              "cano          \n",
              "0     2.000000\n",
              "1     1.000000\n",
              "2     6.750000\n",
              "3     1.000000\n",
              "5     2.571429"
            ]
          },
          "metadata": {
            "tags": []
          },
          "execution_count": 82
        }
      ]
    },
    {
      "cell_type": "code",
      "metadata": {
        "id": "vzsZKgHE2hDu"
      },
      "source": [
        "mcc_pct = mcc_txn_cnt.groupby(['cano']).apply(lambda x:100 * x / float(x.sum()))"
      ],
      "execution_count": null,
      "outputs": []
    },
    {
      "cell_type": "code",
      "metadata": {
        "colab": {
          "base_uri": "https://localhost:8080/",
          "height": 290
        },
        "id": "EA7VCGG22jAV",
        "outputId": "6340e256-25b3-477d-d739-b05bafc1a888"
      },
      "source": [
        "# clustering by k-means with elbow method\n",
        "from sklearn.cluster import KMeans\n",
        "\n",
        "sse = {}\n",
        "\n",
        "for k in range(1, 10):\n",
        "    kmeans = KMeans(n_clusters=k, max_iter=1000).fit(mcc_pct)\n",
        "    sse[k] = kmeans.inertia_ # Inertia: Sum of distances of samples to their closest cluster center\n",
        "\n",
        "plt.figure()\n",
        "plt.plot(list(sse.keys()), list(sse.values()))\n",
        "plt.xlabel(\"Number of cluster\")\n",
        "plt.ylabel(\"SSE\")\n",
        "plt.show()"
      ],
      "execution_count": null,
      "outputs": [
        {
          "output_type": "display_data",
          "data": {
            "image/png": "[encoded data removed]",
            "text/plain": [
              "<Figure size 432x288 with 1 Axes>"
            ]
          },
          "metadata": {
            "tags": [],
            "needs_background": "light"
          }
        }
      ]
    },
    {
      "cell_type": "code",
      "metadata": {
        "colab": {
          "base_uri": "https://localhost:8080/",
          "height": 450
        },
        "id": "HjylcIFN4NFH",
        "outputId": "a1a3faff-07bc-42b6-81a9-cb75644ba919"
      },
      "source": [
        "##k = 3 \n",
        "kmeans = KMeans(n_clusters=3, max_iter=1000).fit(mcc_pct)\n",
        "mcc_pct[\"clusters\"] = kmeans.labels_\n",
        "mcc_pct"
      ],
      "execution_count": null,
      "outputs": [
        {
          "output_type": "execute_result",
          "data": {
            "text/html": [
              "<div>\n",
              "<style scoped>\n",
              "    .dataframe tbody tr th:only-of-type {\n",
              "        vertical-align: middle;\n",
              "    }\n",
              "\n",
              "    .dataframe tbody tr th {\n",
              "        vertical-align: top;\n",
              "    }\n",
              "\n",
              "    .dataframe thead th {\n",
              "        text-align: right;\n",
              "    }\n",
              "</style>\n",
              "<table border=\"1\" class=\"dataframe\">\n",
              "  <thead>\n",
              "    <tr style=\"text-align: right;\">\n",
              "      <th></th>\n",
              "      <th></th>\n",
              "      <th>conam</th>\n",
              "      <th>clusters</th>\n",
              "    </tr>\n",
              "    <tr>\n",
              "      <th>cano</th>\n",
              "      <th>mcc</th>\n",
              "      <th></th>\n",
              "      <th></th>\n",
              "    </tr>\n",
              "  </thead>\n",
              "  <tbody>\n",
              "    <tr>\n",
              "      <th rowspan=\"4\" valign=\"top\">0</th>\n",
              "      <th>228</th>\n",
              "      <td>12.5</td>\n",
              "      <td>1</td>\n",
              "    </tr>\n",
              "    <tr>\n",
              "      <th>251</th>\n",
              "      <td>62.5</td>\n",
              "      <td>2</td>\n",
              "    </tr>\n",
              "    <tr>\n",
              "      <th>255</th>\n",
              "      <td>12.5</td>\n",
              "      <td>1</td>\n",
              "    </tr>\n",
              "    <tr>\n",
              "      <th>286</th>\n",
              "      <td>12.5</td>\n",
              "      <td>1</td>\n",
              "    </tr>\n",
              "    <tr>\n",
              "      <th>1</th>\n",
              "      <th>286</th>\n",
              "      <td>50.0</td>\n",
              "      <td>2</td>\n",
              "    </tr>\n",
              "    <tr>\n",
              "      <th>...</th>\n",
              "      <th>...</th>\n",
              "      <td>...</td>\n",
              "      <td>...</td>\n",
              "    </tr>\n",
              "    <tr>\n",
              "      <th>213309</th>\n",
              "      <th>286</th>\n",
              "      <td>100.0</td>\n",
              "      <td>0</td>\n",
              "    </tr>\n",
              "    <tr>\n",
              "      <th>213317</th>\n",
              "      <th>247</th>\n",
              "      <td>100.0</td>\n",
              "      <td>0</td>\n",
              "    </tr>\n",
              "    <tr>\n",
              "      <th>213321</th>\n",
              "      <th>251</th>\n",
              "      <td>100.0</td>\n",
              "      <td>0</td>\n",
              "    </tr>\n",
              "    <tr>\n",
              "      <th>213329</th>\n",
              "      <th>408</th>\n",
              "      <td>100.0</td>\n",
              "      <td>0</td>\n",
              "    </tr>\n",
              "    <tr>\n",
              "      <th>213334</th>\n",
              "      <th>251</th>\n",
              "      <td>100.0</td>\n",
              "      <td>0</td>\n",
              "    </tr>\n",
              "  </tbody>\n",
              "</table>\n",
              "<p>469422 rows × 2 columns</p>\n",
              "</div>"
            ],
            "text/plain": [
              "            conam  clusters\n",
              "cano   mcc                 \n",
              "0      228   12.5         1\n",
              "       251   62.5         2\n",
              "       255   12.5         1\n",
              "       286   12.5         1\n",
              "1      286   50.0         2\n",
              "...           ...       ...\n",
              "213309 286  100.0         0\n",
              "213317 247  100.0         0\n",
              "213321 251  100.0         0\n",
              "213329 408  100.0         0\n",
              "213334 251  100.0         0\n",
              "\n",
              "[469422 rows x 2 columns]"
            ]
          },
          "metadata": {
            "tags": []
          },
          "execution_count": 86
        }
      ]
    },
    {
      "cell_type": "code",
      "metadata": {
        "colab": {
          "base_uri": "https://localhost:8080/",
          "height": 281
        },
        "id": "lLhMN2pe4UP3",
        "outputId": "80a59774-82a0-418c-f2c3-8e242c547c67"
      },
      "source": [
        "#results visualization\n",
        "plt.figure()\n",
        "plt.scatter(mcc_pct['conam'], mcc_pct['conam'], c = mcc_pct['clusters']) # = 0,1,2\n",
        "plt.axis('equal')\n",
        "plt.title('Prediction')\n",
        "plt.show()"
      ],
      "execution_count": null,
      "outputs": [
        {
          "output_type": "display_data",
          "data": {
            "image/png": "[encoded data removed]",
            "text/plain": [
              "<Figure size 432x288 with 1 Axes>"
            ]
          },
          "metadata": {
            "tags": [],
            "needs_background": "light"
          }
        }
      ]
    },
    {
      "cell_type": "code",
      "metadata": {
        "colab": {
          "base_uri": "https://localhost:8080/",
          "height": 204
        },
        "id": "ocbt15Gh4rlZ",
        "outputId": "9c89d510-0395-46b5-c7c0-86af638feba2"
      },
      "source": [
        "mcc_pct.groupby(['clusters']).describe()"
      ],
      "execution_count": null,
      "outputs": [
        {
          "output_type": "execute_result",
          "data": {
            "text/html": [
              "<div>\n",
              "<style scoped>\n",
              "    .dataframe tbody tr th:only-of-type {\n",
              "        vertical-align: middle;\n",
              "    }\n",
              "\n",
              "    .dataframe tbody tr th {\n",
              "        vertical-align: top;\n",
              "    }\n",
              "\n",
              "    .dataframe thead tr th {\n",
              "        text-align: left;\n",
              "    }\n",
              "\n",
              "    .dataframe thead tr:last-of-type th {\n",
              "        text-align: right;\n",
              "    }\n",
              "</style>\n",
              "<table border=\"1\" class=\"dataframe\">\n",
              "  <thead>\n",
              "    <tr>\n",
              "      <th></th>\n",
              "      <th colspan=\"8\" halign=\"left\">conam</th>\n",
              "    </tr>\n",
              "    <tr>\n",
              "      <th></th>\n",
              "      <th>count</th>\n",
              "      <th>mean</th>\n",
              "      <th>std</th>\n",
              "      <th>min</th>\n",
              "      <th>25%</th>\n",
              "      <th>50%</th>\n",
              "      <th>75%</th>\n",
              "      <th>max</th>\n",
              "    </tr>\n",
              "    <tr>\n",
              "      <th>clusters</th>\n",
              "      <th></th>\n",
              "      <th></th>\n",
              "      <th></th>\n",
              "      <th></th>\n",
              "      <th></th>\n",
              "      <th></th>\n",
              "      <th></th>\n",
              "      <th></th>\n",
              "    </tr>\n",
              "  </thead>\n",
              "  <tbody>\n",
              "    <tr>\n",
              "      <th>0</th>\n",
              "      <td>50307.0</td>\n",
              "      <td>95.142148</td>\n",
              "      <td>9.147536</td>\n",
              "      <td>69.565217</td>\n",
              "      <td>100.000000</td>\n",
              "      <td>100.000000</td>\n",
              "      <td>100.0</td>\n",
              "      <td>100.000000</td>\n",
              "    </tr>\n",
              "    <tr>\n",
              "      <th>1</th>\n",
              "      <td>326461.0</td>\n",
              "      <td>10.990851</td>\n",
              "      <td>6.853531</td>\n",
              "      <td>0.117509</td>\n",
              "      <td>5.263158</td>\n",
              "      <td>9.090909</td>\n",
              "      <td>16.0</td>\n",
              "      <td>27.380952</td>\n",
              "    </tr>\n",
              "    <tr>\n",
              "      <th>2</th>\n",
              "      <td>92654.0</td>\n",
              "      <td>43.782242</td>\n",
              "      <td>11.337700</td>\n",
              "      <td>27.419355</td>\n",
              "      <td>33.333333</td>\n",
              "      <td>42.857143</td>\n",
              "      <td>50.0</td>\n",
              "      <td>69.444444</td>\n",
              "    </tr>\n",
              "  </tbody>\n",
              "</table>\n",
              "</div>"
            ],
            "text/plain": [
              "             conam                        ...                               \n",
              "             count       mean        std  ...         50%    75%         max\n",
              "clusters                                  ...                               \n",
              "0          50307.0  95.142148   9.147536  ...  100.000000  100.0  100.000000\n",
              "1         326461.0  10.990851   6.853531  ...    9.090909   16.0   27.380952\n",
              "2          92654.0  43.782242  11.337700  ...   42.857143   50.0   69.444444\n",
              "\n",
              "[3 rows x 8 columns]"
            ]
          },
          "metadata": {
            "tags": []
          },
          "execution_count": 88
        }
      ]
    },
    {
      "cell_type": "markdown",
      "metadata": {
        "id": "KMfy6F8e7o_d"
      },
      "source": [
        "#### 各卡MCC消費類型分群"
      ]
    },
    {
      "cell_type": "code",
      "metadata": {
        "id": "L7a5ip7S46g9"
      },
      "source": [
        "# cano:卡號 / \n",
        "mcc_pct_sum = mcc_pct.groupby(['cano','clusters']).sum()"
      ],
      "execution_count": null,
      "outputs": []
    },
    {
      "cell_type": "code",
      "metadata": {
        "id": "bv9eZd4249zu"
      },
      "source": [
        "mcc_pct_sum['rank'] = mcc_pct.groupby(['cano','clusters']).sum().groupby(['cano']).rank(ascending=False, method='max')"
      ],
      "execution_count": null,
      "outputs": []
    },
    {
      "cell_type": "code",
      "metadata": {
        "colab": {
          "base_uri": "https://localhost:8080/",
          "height": 700
        },
        "id": "a6wGapIT5MG-",
        "outputId": "06b5de6d-cc16-441f-a65b-2c1195206999"
      },
      "source": [
        "mcc_pct_sum[mcc_pct_sum['rank']==1].head(20)"
      ],
      "execution_count": null,
      "outputs": [
        {
          "output_type": "execute_result",
          "data": {
            "text/html": [
              "<div>\n",
              "<style scoped>\n",
              "    .dataframe tbody tr th:only-of-type {\n",
              "        vertical-align: middle;\n",
              "    }\n",
              "\n",
              "    .dataframe tbody tr th {\n",
              "        vertical-align: top;\n",
              "    }\n",
              "\n",
              "    .dataframe thead th {\n",
              "        text-align: right;\n",
              "    }\n",
              "</style>\n",
              "<table border=\"1\" class=\"dataframe\">\n",
              "  <thead>\n",
              "    <tr style=\"text-align: right;\">\n",
              "      <th></th>\n",
              "      <th></th>\n",
              "      <th>conam</th>\n",
              "      <th>rank</th>\n",
              "    </tr>\n",
              "    <tr>\n",
              "      <th>cano</th>\n",
              "      <th>clusters</th>\n",
              "      <th></th>\n",
              "      <th></th>\n",
              "    </tr>\n",
              "  </thead>\n",
              "  <tbody>\n",
              "    <tr>\n",
              "      <th>0</th>\n",
              "      <th>2</th>\n",
              "      <td>62.500000</td>\n",
              "      <td>1.0</td>\n",
              "    </tr>\n",
              "    <tr>\n",
              "      <th>1</th>\n",
              "      <th>2</th>\n",
              "      <td>100.000000</td>\n",
              "      <td>1.0</td>\n",
              "    </tr>\n",
              "    <tr>\n",
              "      <th>2</th>\n",
              "      <th>0</th>\n",
              "      <td>85.185185</td>\n",
              "      <td>1.0</td>\n",
              "    </tr>\n",
              "    <tr>\n",
              "      <th>3</th>\n",
              "      <th>0</th>\n",
              "      <td>100.000000</td>\n",
              "      <td>1.0</td>\n",
              "    </tr>\n",
              "    <tr>\n",
              "      <th>5</th>\n",
              "      <th>1</th>\n",
              "      <td>66.666667</td>\n",
              "      <td>1.0</td>\n",
              "    </tr>\n",
              "    <tr>\n",
              "      <th>7</th>\n",
              "      <th>1</th>\n",
              "      <td>100.000000</td>\n",
              "      <td>1.0</td>\n",
              "    </tr>\n",
              "    <tr>\n",
              "      <th>8</th>\n",
              "      <th>1</th>\n",
              "      <td>100.000000</td>\n",
              "      <td>1.0</td>\n",
              "    </tr>\n",
              "    <tr>\n",
              "      <th>9</th>\n",
              "      <th>0</th>\n",
              "      <td>90.000000</td>\n",
              "      <td>1.0</td>\n",
              "    </tr>\n",
              "    <tr>\n",
              "      <th>10</th>\n",
              "      <th>1</th>\n",
              "      <td>100.000000</td>\n",
              "      <td>1.0</td>\n",
              "    </tr>\n",
              "    <tr>\n",
              "      <th>14</th>\n",
              "      <th>2</th>\n",
              "      <td>100.000000</td>\n",
              "      <td>1.0</td>\n",
              "    </tr>\n",
              "    <tr>\n",
              "      <th>17</th>\n",
              "      <th>1</th>\n",
              "      <td>100.000000</td>\n",
              "      <td>1.0</td>\n",
              "    </tr>\n",
              "    <tr>\n",
              "      <th>19</th>\n",
              "      <th>0</th>\n",
              "      <td>100.000000</td>\n",
              "      <td>1.0</td>\n",
              "    </tr>\n",
              "    <tr>\n",
              "      <th>21</th>\n",
              "      <th>0</th>\n",
              "      <td>100.000000</td>\n",
              "      <td>1.0</td>\n",
              "    </tr>\n",
              "    <tr>\n",
              "      <th>22</th>\n",
              "      <th>1</th>\n",
              "      <td>68.181818</td>\n",
              "      <td>1.0</td>\n",
              "    </tr>\n",
              "    <tr>\n",
              "      <th>23</th>\n",
              "      <th>2</th>\n",
              "      <td>100.000000</td>\n",
              "      <td>1.0</td>\n",
              "    </tr>\n",
              "    <tr>\n",
              "      <th>24</th>\n",
              "      <th>0</th>\n",
              "      <td>100.000000</td>\n",
              "      <td>1.0</td>\n",
              "    </tr>\n",
              "    <tr>\n",
              "      <th>25</th>\n",
              "      <th>0</th>\n",
              "      <td>100.000000</td>\n",
              "      <td>1.0</td>\n",
              "    </tr>\n",
              "    <tr>\n",
              "      <th>27</th>\n",
              "      <th>2</th>\n",
              "      <td>80.000000</td>\n",
              "      <td>1.0</td>\n",
              "    </tr>\n",
              "    <tr>\n",
              "      <th>28</th>\n",
              "      <th>1</th>\n",
              "      <td>100.000000</td>\n",
              "      <td>1.0</td>\n",
              "    </tr>\n",
              "    <tr>\n",
              "      <th>29</th>\n",
              "      <th>1</th>\n",
              "      <td>100.000000</td>\n",
              "      <td>1.0</td>\n",
              "    </tr>\n",
              "  </tbody>\n",
              "</table>\n",
              "</div>"
            ],
            "text/plain": [
              "                    conam  rank\n",
              "cano clusters                  \n",
              "0    2          62.500000   1.0\n",
              "1    2         100.000000   1.0\n",
              "2    0          85.185185   1.0\n",
              "3    0         100.000000   1.0\n",
              "5    1          66.666667   1.0\n",
              "7    1         100.000000   1.0\n",
              "8    1         100.000000   1.0\n",
              "9    0          90.000000   1.0\n",
              "10   1         100.000000   1.0\n",
              "14   2         100.000000   1.0\n",
              "17   1         100.000000   1.0\n",
              "19   0         100.000000   1.0\n",
              "21   0         100.000000   1.0\n",
              "22   1          68.181818   1.0\n",
              "23   2         100.000000   1.0\n",
              "24   0         100.000000   1.0\n",
              "25   0         100.000000   1.0\n",
              "27   2          80.000000   1.0\n",
              "28   1         100.000000   1.0\n",
              "29   1         100.000000   1.0"
            ]
          },
          "metadata": {
            "tags": []
          },
          "execution_count": 91
        }
      ]
    }
  ]
}